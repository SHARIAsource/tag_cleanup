{
 "cells": [
  {
   "cell_type": "code",
   "execution_count": 1,
   "metadata": {},
   "outputs": [],
   "source": [
    "import csv\n",
    "import html\n",
    "import re\n",
    "import unicodedata\n",
    "\n",
    "import numpy as np\n",
    "import pandas as pd\n",
    "import plotly.express as px\n",
    "from abydos.fingerprint import QGram, String\n",
    "from gensim.parsing.preprocessing import remove_stopwords\n",
    "from Levenshtein import distance\n"
   ]
  },
  {
   "cell_type": "markdown",
   "metadata": {},
   "source": [
    "# Load dataset\n",
    "\n",
    "<div class=\"alert alert-block alert-info\">\n",
    "<b>GHP:</b> \n",
    "I'm adding a column to the dataframe to help generate a concordance that we can then use during data migrations to transform the tags as necessary. The idea is for target to have one of three possible values:<br/>\n",
    "<ul>\n",
    "<li><b>None</b>: delete this tag</li>\n",
    "<li><b>integer</b>: a database <b>id</b>, i.e. replace tag with supplied id</li>\n",
    "<li><b>string</b>: the actual name of the tag, whether original or corrected</li>\n",
    "</ul>\n",
    "<br/>\n",
    "</div>"
   ]
  },
  {
   "cell_type": "code",
   "execution_count": 19,
   "metadata": {},
   "outputs": [
    {
     "data": {
      "text/html": [
       "<div>\n",
       "<style scoped>\n",
       "    .dataframe tbody tr th:only-of-type {\n",
       "        vertical-align: middle;\n",
       "    }\n",
       "\n",
       "    .dataframe tbody tr th {\n",
       "        vertical-align: top;\n",
       "    }\n",
       "\n",
       "    .dataframe thead th {\n",
       "        text-align: right;\n",
       "    }\n",
       "</style>\n",
       "<table border=\"1\" class=\"dataframe\">\n",
       "  <thead>\n",
       "    <tr style=\"text-align: right;\">\n",
       "      <th></th>\n",
       "      <th>id</th>\n",
       "      <th>name</th>\n",
       "      <th>slug</th>\n",
       "      <th>description</th>\n",
       "      <th>taxonomy</th>\n",
       "      <th>parent_id</th>\n",
       "      <th>parent</th>\n",
       "      <th>count</th>\n",
       "      <th>target</th>\n",
       "    </tr>\n",
       "  </thead>\n",
       "  <tbody>\n",
       "    <tr>\n",
       "      <th>0</th>\n",
       "      <td>1605</td>\n",
       "      <td>AAOIFI</td>\n",
       "      <td>aaoifi</td>\n",
       "      <td>None</td>\n",
       "      <td>category</td>\n",
       "      <td>1454</td>\n",
       "      <td>Islamic Finance</td>\n",
       "      <td>3</td>\n",
       "      <td>None</td>\n",
       "    </tr>\n",
       "    <tr>\n",
       "      <th>1</th>\n",
       "      <td>1358</td>\n",
       "      <td>Academic freedom</td>\n",
       "      <td>academic-freedom</td>\n",
       "      <td>None</td>\n",
       "      <td>category</td>\n",
       "      <td>0</td>\n",
       "      <td>None</td>\n",
       "      <td>6</td>\n",
       "      <td>None</td>\n",
       "    </tr>\n",
       "    <tr>\n",
       "      <th>2</th>\n",
       "      <td>1606</td>\n",
       "      <td>ACLU</td>\n",
       "      <td>aclu</td>\n",
       "      <td>None</td>\n",
       "      <td>category</td>\n",
       "      <td>1587</td>\n",
       "      <td>U.S.</td>\n",
       "      <td>2</td>\n",
       "      <td>None</td>\n",
       "    </tr>\n",
       "    <tr>\n",
       "      <th>3</th>\n",
       "      <td>1607</td>\n",
       "      <td>administrative state</td>\n",
       "      <td>administrative-state</td>\n",
       "      <td>None</td>\n",
       "      <td>category</td>\n",
       "      <td>1566</td>\n",
       "      <td>State's role</td>\n",
       "      <td>9</td>\n",
       "      <td>None</td>\n",
       "    </tr>\n",
       "    <tr>\n",
       "      <th>4</th>\n",
       "      <td>1359</td>\n",
       "      <td>Afghanistan</td>\n",
       "      <td>afghanistan</td>\n",
       "      <td>None</td>\n",
       "      <td>category</td>\n",
       "      <td>0</td>\n",
       "      <td>None</td>\n",
       "      <td>143</td>\n",
       "      <td>None</td>\n",
       "    </tr>\n",
       "  </tbody>\n",
       "</table>\n",
       "</div>"
      ],
      "text/plain": [
       "     id                  name                  slug description  taxonomy  \\\n",
       "0  1605                AAOIFI                aaoifi        None  category   \n",
       "1  1358      Academic freedom      academic-freedom        None  category   \n",
       "2  1606                  ACLU                  aclu        None  category   \n",
       "3  1607  administrative state  administrative-state        None  category   \n",
       "4  1359           Afghanistan           afghanistan        None  category   \n",
       "\n",
       "   parent_id           parent  count target  \n",
       "0       1454  Islamic Finance      3   None  \n",
       "1          0             None      6   None  \n",
       "2       1587             U.S.      2   None  \n",
       "3       1566     State's role      9   None  \n",
       "4          0             None    143   None  "
      ]
     },
     "execution_count": 19,
     "metadata": {},
     "output_type": "execute_result"
    }
   ],
   "source": [
    "# load data\n",
    "dataset = pd.read_csv('islamiclawblog_tags_categories_convert.csv')\n",
    "dataset = dataset.replace({np.nan: None})\n",
    "# insert column to keep track of targets\n",
    "dataset['target'] = None\n",
    "\n",
    "dataset.head()\n"
   ]
  },
  {
   "cell_type": "markdown",
   "metadata": {},
   "source": [
    "# Fix HTML-escaped characters\n",
    "\n",
    "<div class=\"alert alert-block alert-info\">\n",
    "<b>GHP:</b> I figured we might as well just get this out of the way (I don't think we want HTML encoding in tags anyway).</div>"
   ]
  },
  {
   "cell_type": "code",
   "execution_count": 20,
   "metadata": {},
   "outputs": [
    {
     "data": {
      "text/html": [
       "<div>\n",
       "<style scoped>\n",
       "    .dataframe tbody tr th:only-of-type {\n",
       "        vertical-align: middle;\n",
       "    }\n",
       "\n",
       "    .dataframe tbody tr th {\n",
       "        vertical-align: top;\n",
       "    }\n",
       "\n",
       "    .dataframe thead th {\n",
       "        text-align: right;\n",
       "    }\n",
       "</style>\n",
       "<table border=\"1\" class=\"dataframe\">\n",
       "  <thead>\n",
       "    <tr style=\"text-align: right;\">\n",
       "      <th></th>\n",
       "      <th>id</th>\n",
       "      <th>name</th>\n",
       "      <th>slug</th>\n",
       "      <th>description</th>\n",
       "      <th>taxonomy</th>\n",
       "      <th>parent_id</th>\n",
       "      <th>parent</th>\n",
       "      <th>count</th>\n",
       "      <th>target</th>\n",
       "    </tr>\n",
       "  </thead>\n",
       "  <tbody>\n",
       "    <tr>\n",
       "      <th>61</th>\n",
       "      <td>3900</td>\n",
       "      <td>Courts &amp;amp; Canons</td>\n",
       "      <td>courts-and-canons</td>\n",
       "      <td>Courts&amp;amp;Canons (CnC) is a suite of AI and o...</td>\n",
       "      <td>category</td>\n",
       "      <td>0</td>\n",
       "      <td>None</td>\n",
       "      <td>12</td>\n",
       "      <td>None</td>\n",
       "    </tr>\n",
       "    <tr>\n",
       "      <th>164</th>\n",
       "      <td>1456</td>\n",
       "      <td>Islamic Law &amp;amp; Law of the Muslim World eJou...</td>\n",
       "      <td>islamic-law-law-of-the-muslim-world-ejournal</td>\n",
       "      <td>None</td>\n",
       "      <td>category</td>\n",
       "      <td>0</td>\n",
       "      <td>None</td>\n",
       "      <td>19</td>\n",
       "      <td>None</td>\n",
       "    </tr>\n",
       "    <tr>\n",
       "      <th>403</th>\n",
       "      <td>4910</td>\n",
       "      <td>2022 Global Meeting on Law &amp;amp; Society</td>\n",
       "      <td>2022-global-meeting-on-law-society</td>\n",
       "      <td>None</td>\n",
       "      <td>post_tag</td>\n",
       "      <td>0</td>\n",
       "      <td>None</td>\n",
       "      <td>1</td>\n",
       "      <td>None</td>\n",
       "    </tr>\n",
       "    <tr>\n",
       "      <th>408</th>\n",
       "      <td>4512</td>\n",
       "      <td>32 B.C.J.L. &amp;amp; Soc. Just. (2012)</td>\n",
       "      <td>32-b-c-j-l-soc-just-2012</td>\n",
       "      <td>None</td>\n",
       "      <td>post_tag</td>\n",
       "      <td>0</td>\n",
       "      <td>None</td>\n",
       "      <td>1</td>\n",
       "      <td>None</td>\n",
       "    </tr>\n",
       "    <tr>\n",
       "      <th>412</th>\n",
       "      <td>5291</td>\n",
       "      <td>7th Global Meeting on Law &amp;amp; Society</td>\n",
       "      <td>7th-global-meeting-on-law-society</td>\n",
       "      <td>None</td>\n",
       "      <td>post_tag</td>\n",
       "      <td>0</td>\n",
       "      <td>None</td>\n",
       "      <td>1</td>\n",
       "      <td>None</td>\n",
       "    </tr>\n",
       "  </tbody>\n",
       "</table>\n",
       "</div>"
      ],
      "text/plain": [
       "       id                                               name  \\\n",
       "61   3900                                Courts &amp; Canons   \n",
       "164  1456  Islamic Law &amp; Law of the Muslim World eJou...   \n",
       "403  4910           2022 Global Meeting on Law &amp; Society   \n",
       "408  4512                32 B.C.J.L. &amp; Soc. Just. (2012)   \n",
       "412  5291            7th Global Meeting on Law &amp; Society   \n",
       "\n",
       "                                             slug  \\\n",
       "61                              courts-and-canons   \n",
       "164  islamic-law-law-of-the-muslim-world-ejournal   \n",
       "403            2022-global-meeting-on-law-society   \n",
       "408                      32-b-c-j-l-soc-just-2012   \n",
       "412             7th-global-meeting-on-law-society   \n",
       "\n",
       "                                           description  taxonomy  parent_id  \\\n",
       "61   Courts&amp;Canons (CnC) is a suite of AI and o...  category          0   \n",
       "164                                               None  category          0   \n",
       "403                                               None  post_tag          0   \n",
       "408                                               None  post_tag          0   \n",
       "412                                               None  post_tag          0   \n",
       "\n",
       "    parent  count target  \n",
       "61    None     12   None  \n",
       "164   None     19   None  \n",
       "403   None      1   None  \n",
       "408   None      1   None  \n",
       "412   None      1   None  "
      ]
     },
     "metadata": {},
     "output_type": "display_data"
    },
    {
     "name": "stdout",
     "output_type": "stream",
     "text": [
      "\n",
      "RESULT:\n"
     ]
    },
    {
     "data": {
      "text/html": [
       "<div>\n",
       "<style scoped>\n",
       "    .dataframe tbody tr th:only-of-type {\n",
       "        vertical-align: middle;\n",
       "    }\n",
       "\n",
       "    .dataframe tbody tr th {\n",
       "        vertical-align: top;\n",
       "    }\n",
       "\n",
       "    .dataframe thead th {\n",
       "        text-align: right;\n",
       "    }\n",
       "</style>\n",
       "<table border=\"1\" class=\"dataframe\">\n",
       "  <thead>\n",
       "    <tr style=\"text-align: right;\">\n",
       "      <th></th>\n",
       "      <th>id</th>\n",
       "      <th>name</th>\n",
       "      <th>slug</th>\n",
       "      <th>description</th>\n",
       "      <th>taxonomy</th>\n",
       "      <th>parent_id</th>\n",
       "      <th>parent</th>\n",
       "      <th>count</th>\n",
       "      <th>target</th>\n",
       "    </tr>\n",
       "  </thead>\n",
       "  <tbody>\n",
       "    <tr>\n",
       "      <th>61</th>\n",
       "      <td>3900</td>\n",
       "      <td>Courts &amp; Canons</td>\n",
       "      <td>courts-and-canons</td>\n",
       "      <td>Courts&amp;amp;Canons (CnC) is a suite of AI and o...</td>\n",
       "      <td>category</td>\n",
       "      <td>0</td>\n",
       "      <td>None</td>\n",
       "      <td>12</td>\n",
       "      <td>None</td>\n",
       "    </tr>\n",
       "    <tr>\n",
       "      <th>164</th>\n",
       "      <td>1456</td>\n",
       "      <td>Islamic Law &amp; Law of the Muslim World eJournal</td>\n",
       "      <td>islamic-law-law-of-the-muslim-world-ejournal</td>\n",
       "      <td>None</td>\n",
       "      <td>category</td>\n",
       "      <td>0</td>\n",
       "      <td>None</td>\n",
       "      <td>19</td>\n",
       "      <td>None</td>\n",
       "    </tr>\n",
       "    <tr>\n",
       "      <th>403</th>\n",
       "      <td>4910</td>\n",
       "      <td>2022 Global Meeting on Law &amp; Society</td>\n",
       "      <td>2022-global-meeting-on-law-society</td>\n",
       "      <td>None</td>\n",
       "      <td>post_tag</td>\n",
       "      <td>0</td>\n",
       "      <td>None</td>\n",
       "      <td>1</td>\n",
       "      <td>None</td>\n",
       "    </tr>\n",
       "    <tr>\n",
       "      <th>408</th>\n",
       "      <td>4512</td>\n",
       "      <td>32 B.C.J.L. &amp; Soc. Just. (2012)</td>\n",
       "      <td>32-b-c-j-l-soc-just-2012</td>\n",
       "      <td>None</td>\n",
       "      <td>post_tag</td>\n",
       "      <td>0</td>\n",
       "      <td>None</td>\n",
       "      <td>1</td>\n",
       "      <td>None</td>\n",
       "    </tr>\n",
       "    <tr>\n",
       "      <th>412</th>\n",
       "      <td>5291</td>\n",
       "      <td>7th Global Meeting on Law &amp; Society</td>\n",
       "      <td>7th-global-meeting-on-law-society</td>\n",
       "      <td>None</td>\n",
       "      <td>post_tag</td>\n",
       "      <td>0</td>\n",
       "      <td>None</td>\n",
       "      <td>1</td>\n",
       "      <td>None</td>\n",
       "    </tr>\n",
       "  </tbody>\n",
       "</table>\n",
       "</div>"
      ],
      "text/plain": [
       "       id                                            name  \\\n",
       "61   3900                                 Courts & Canons   \n",
       "164  1456  Islamic Law & Law of the Muslim World eJournal   \n",
       "403  4910            2022 Global Meeting on Law & Society   \n",
       "408  4512                 32 B.C.J.L. & Soc. Just. (2012)   \n",
       "412  5291             7th Global Meeting on Law & Society   \n",
       "\n",
       "                                             slug  \\\n",
       "61                              courts-and-canons   \n",
       "164  islamic-law-law-of-the-muslim-world-ejournal   \n",
       "403            2022-global-meeting-on-law-society   \n",
       "408                      32-b-c-j-l-soc-just-2012   \n",
       "412             7th-global-meeting-on-law-society   \n",
       "\n",
       "                                           description  taxonomy  parent_id  \\\n",
       "61   Courts&amp;Canons (CnC) is a suite of AI and o...  category          0   \n",
       "164                                               None  category          0   \n",
       "403                                               None  post_tag          0   \n",
       "408                                               None  post_tag          0   \n",
       "412                                               None  post_tag          0   \n",
       "\n",
       "    parent  count target  \n",
       "61    None     12   None  \n",
       "164   None     19   None  \n",
       "403   None      1   None  \n",
       "408   None      1   None  \n",
       "412   None      1   None  "
      ]
     },
     "metadata": {},
     "output_type": "display_data"
    }
   ],
   "source": [
    "sample = dataset[dataset['name'].str.contains('&a')].iloc[0:5]\n",
    "display(sample)\n",
    "\n",
    "for col in ['name', 'parent']:\n",
    "    dataset[col] = [html.unescape(i) if i else i for i in dataset[col]]\n",
    "\n",
    "print('\\nRESULT:')\n",
    "display(dataset.iloc[sample.index])\n"
   ]
  },
  {
   "cell_type": "markdown",
   "metadata": {},
   "source": [
    "# Find duplicates"
   ]
  },
  {
   "cell_type": "code",
   "execution_count": 21,
   "metadata": {},
   "outputs": [
    {
     "name": "stdout",
     "output_type": "stream",
     "text": [
      "Total tags: 6552\n",
      "Unique tags: 6391\n",
      "Duplicate tags: 161\n",
      "\n",
      "AAOIFI, ACLU, Afghanistan, Africa, Australia, Bahrain, Bangladesh, Belgium, Brazil, Brunei, Canada, China, Courts & Canons, Denmark, Djibouti, Egypt, Establishment Clause, Ethiopia, Europe, European Union, Federal Shariat Court, Field Guide, Field Guide Roundup, First Amendment, France, Germany, Governance, Greece, Guardianship, ISIS, India, Indian Supreme Court, Indonesia, Iran, Iraq, Islamic Law Lexicon, Islamic Law Teaching, Islamic constitutionalism, Islamic criminal law, Islamic jurisprudence, Islamic law, Islamic legal authority, Islamic legal history, Islamic legal theory, Islamic marriage, Islamization, Italy, Japan, Jordan, Journal of Islamic Law, Kashmir, Kenya, Khizr Khan, Kuwait, Lebanon, Libya, Malaysia, Maldives, Mali, Morocco, Muhammad Ali, Muslim minorities, Māwardī, New Zealand, News, News mentions of Covid-19 and Islamic Law, Oman, Ottoman Empire, PIL News, Pakistan, Philippines, Prophet Muḥammad, Qarāfī, Qatar, Qurʾān, Ramadan, Roundtable, Russia, SCOTUS, Salafism, Saudi Arabia, Scholarship in Plain English, Senegal, Shīʿī law, Sierra Leone, Singapore, South Africa, Sri Lanka, Sudan, Symposium, Syria, Title VII, Tribal Law, Tunisia, Turkey, U.S., U.S. Constitution, USA, Ukraine, United Kingdom, United Nations, United States, Update, Yemen, age of maturity, anthropology, bankruptcy, big data, blasphemy, book review, burkini ban, civil liberties, codification, corpus analysis, crime and punishment, digitization, discrimination, evidence, fellowship, fiqh, foreign policy, free exercise, hadd, halal, health law, heresy, hijab, history, human rights, ijtihād, judge, judicial independence, justice, khums, law and literature, law and society, law enforcement, legal pluralism, legal status, mahr, non-Muslim minorities, prisoners' rights, qāḍī, religious accommodation, religious freedom, ribā, scholarship round-up, secularism, sharīʿa compliance, siyasa, sukuk, surrogacy, tax theory, terrorism, women and gender, zakat, ḥalāl\n",
      "\n",
      "Unique duplicates: 157 (some may repeat more than once)\n"
     ]
    }
   ],
   "source": [
    "tags = list(dataset['name'])\n",
    "u_tags = list(set(tags))\n",
    "\n",
    "print(f'Total tags: {len(tags)}')\n",
    "print(f'Unique tags: {len(u_tags)}')\n",
    "print(f'Duplicate tags: {len(tags) -len(u_tags)}\\n')\n",
    "\n",
    "dupes = [i for i in u_tags if tags.count(i) > 1]\n",
    "dupes.sort()\n",
    "print(', '.join(dupes))\n",
    "print(f'\\nUnique duplicates: {len(dupes)} (some may repeat more than once)')\n"
   ]
  },
  {
   "cell_type": "code",
   "execution_count": 22,
   "metadata": {},
   "outputs": [
    {
     "name": "stdout",
     "output_type": "stream",
     "text": [
      "Total tags: 6234\n",
      "Unique tags: 6234\n",
      "Duplicate tags: 0\n",
      "\n"
     ]
    },
    {
     "data": {
      "text/html": [
       "<div>\n",
       "<style scoped>\n",
       "    .dataframe tbody tr th:only-of-type {\n",
       "        vertical-align: middle;\n",
       "    }\n",
       "\n",
       "    .dataframe tbody tr th {\n",
       "        vertical-align: top;\n",
       "    }\n",
       "\n",
       "    .dataframe thead th {\n",
       "        text-align: right;\n",
       "    }\n",
       "</style>\n",
       "<table border=\"1\" class=\"dataframe\">\n",
       "  <thead>\n",
       "    <tr style=\"text-align: right;\">\n",
       "      <th></th>\n",
       "      <th>id</th>\n",
       "      <th>name</th>\n",
       "      <th>slug</th>\n",
       "      <th>description</th>\n",
       "      <th>taxonomy</th>\n",
       "      <th>parent_id</th>\n",
       "      <th>parent</th>\n",
       "      <th>count</th>\n",
       "      <th>target</th>\n",
       "    </tr>\n",
       "  </thead>\n",
       "  <tbody>\n",
       "    <tr>\n",
       "      <th>0</th>\n",
       "      <td>1605</td>\n",
       "      <td>AAOIFI</td>\n",
       "      <td>aaoifi</td>\n",
       "      <td>None</td>\n",
       "      <td>category</td>\n",
       "      <td>1454</td>\n",
       "      <td>Islamic Finance</td>\n",
       "      <td>3</td>\n",
       "      <td>1605</td>\n",
       "    </tr>\n",
       "    <tr>\n",
       "      <th>1</th>\n",
       "      <td>1358</td>\n",
       "      <td>Academic freedom</td>\n",
       "      <td>academic-freedom</td>\n",
       "      <td>None</td>\n",
       "      <td>category</td>\n",
       "      <td>0</td>\n",
       "      <td>None</td>\n",
       "      <td>6</td>\n",
       "      <td>None</td>\n",
       "    </tr>\n",
       "    <tr>\n",
       "      <th>2</th>\n",
       "      <td>1606</td>\n",
       "      <td>ACLU</td>\n",
       "      <td>aclu</td>\n",
       "      <td>None</td>\n",
       "      <td>category</td>\n",
       "      <td>1587</td>\n",
       "      <td>U.S.</td>\n",
       "      <td>2</td>\n",
       "      <td>1606</td>\n",
       "    </tr>\n",
       "    <tr>\n",
       "      <th>3</th>\n",
       "      <td>1607</td>\n",
       "      <td>administrative state</td>\n",
       "      <td>administrative-state</td>\n",
       "      <td>None</td>\n",
       "      <td>category</td>\n",
       "      <td>1566</td>\n",
       "      <td>State's role</td>\n",
       "      <td>9</td>\n",
       "      <td>None</td>\n",
       "    </tr>\n",
       "    <tr>\n",
       "      <th>4</th>\n",
       "      <td>1359</td>\n",
       "      <td>Afghanistan</td>\n",
       "      <td>afghanistan</td>\n",
       "      <td>None</td>\n",
       "      <td>category</td>\n",
       "      <td>0</td>\n",
       "      <td>None</td>\n",
       "      <td>143</td>\n",
       "      <td>1359</td>\n",
       "    </tr>\n",
       "  </tbody>\n",
       "</table>\n",
       "</div>"
      ],
      "text/plain": [
       "     id                  name                  slug description  taxonomy  \\\n",
       "0  1605                AAOIFI                aaoifi        None  category   \n",
       "1  1358      Academic freedom      academic-freedom        None  category   \n",
       "2  1606                  ACLU                  aclu        None  category   \n",
       "3  1607  administrative state  administrative-state        None  category   \n",
       "4  1359           Afghanistan           afghanistan        None  category   \n",
       "\n",
       "   parent_id           parent  count target  \n",
       "0       1454  Islamic Finance      3   1605  \n",
       "1          0             None      6   None  \n",
       "2       1587             U.S.      2   1606  \n",
       "3       1566     State's role      9   None  \n",
       "4          0             None    143   1359  "
      ]
     },
     "execution_count": 22,
     "metadata": {},
     "output_type": "execute_result"
    }
   ],
   "source": [
    "# resolve duplicates by assigning first occurrence id to all others\n",
    "for d in dupes:\n",
    "    filtered = dataset.loc[dataset['name'] == d]\n",
    "    id_list = list(filtered['id'])\n",
    "    dataset.loc[filtered.index, 'target'] = min(id_list)\n",
    "\n",
    "tags = list(dataset.loc[dataset['target'].isnull()]['name'])\n",
    "u_tags = list(set(tags))\n",
    "\n",
    "print(f'Total tags: {len(tags)}')\n",
    "print(f'Unique tags: {len(u_tags)}')\n",
    "print(f'Duplicate tags: {len(tags) -len(u_tags)}\\n')\n",
    "\n",
    "dataset.head()\n"
   ]
  },
  {
   "cell_type": "markdown",
   "metadata": {},
   "source": [
    "# Find occurences of commas, semicolon, slash, other delimiters"
   ]
  },
  {
   "cell_type": "code",
   "execution_count": 23,
   "metadata": {},
   "outputs": [
    {
     "name": "stdout",
     "output_type": "stream",
     "text": [
      "\"'[῾–+-](̣’?,/: ̄&͑.​ )#=̲‘`̈\n"
     ]
    }
   ],
   "source": [
    "tags = list(dataset.loc[dataset['target'].isnull()]['name'])\n",
    "tags_ugly_str = ''.join(tags)\n",
    "print(''.join(set(re.findall(r'\\W', tags_ugly_str))))"
   ]
  },
  {
   "cell_type": "markdown",
   "metadata": {},
   "source": [
    "Tentatively, &, , ;, ?, _, +, and / may be of interest"
   ]
  },
  {
   "cell_type": "code",
   "execution_count": 24,
   "metadata": {},
   "outputs": [
    {
     "name": "stdout",
     "output_type": "stream",
     "text": [
      "Central Bank of Morocco/Bank al-Maghrib\n",
      "Commanding right/forbidding wrong\n",
      "gharar (indefiniteness / risk)\n",
      "hadith/Ḥadīth\n",
      "ḥijāb / headscarf debates\n",
      "ḥudūd / hudood\n",
      "ISIS/Islamic State\n",
      "Islamic Law & Law of the Muslim World eJournal\n",
      "Science, Technology, and the Law\n",
      "talaq/ṭalāq\n",
      "United Arab Emirates/UAE\n",
      "2022 Global Meeting on Law & Society\n",
      "32 B.C.J.L. & Soc. Just. (2012)\n",
      "7th Global Meeting on Law & Society\n",
      "9/11\n",
      "Cases & Fatwās\n",
      "Danial Latifi & Anr v. Union of India\n",
      "Dubai Financial Services Authority/DFSA\n",
      "Dubai International Finance Centre/DIFC\n",
      "Flora & Noor\n",
      "Ghuman & Safi v. State\n",
      "Global Imams & Scholars Network\n",
      "Javed & Ors. v. State of Haryana & Ors.\n",
      "Journal of Church & State\n",
      "K&L Gates LLP\n",
      "Law & Society: International & Comparative Law eJournal\n",
      "Legal Databases by Subject: Religion & Law\n",
      "LGBTQI+ rights\n",
      "LSEG Data & Analytics: Islamic market data\n",
      "Middle East & Islamic Studies Databases for Research: Islamic Studies Databases\n",
      "Program in Law & History\n",
      "Program on Law & Society in the Muslim World\n",
      "Pursuing Islamic Scholarship Alongside Another Career?\n",
      "Queen-Empress v. Ramzan & Ors\n",
      "Roundtable on Islamic Legal History & Historiography\n",
      "Ruby on Rails/React Developer\n",
      "S&P\n",
      "S&P 500 Shariah\n",
      "The Least Religious Branch? The New Islamic Constitutionalism after the Arab Spring\n",
      "VMLY&R Malaysia\n",
      "void/non-marriage\n",
      "What is Islamic Law?\n",
      "William & Marry\n",
      "WLC v. President of the Republic & Others (South Africa)\n"
     ]
    }
   ],
   "source": [
    "poss_breakers = r'[,&;\\?\\+_/]'\n",
    "poss_mult_tags = []\n",
    "\n",
    "for t in tags:\n",
    "    if(re.search(poss_breakers, t)):\n",
    "        poss_mult_tags.append(t)\n",
    "\n",
    "for e in poss_mult_tags:\n",
    "    print (e)"
   ]
  },
  {
   "cell_type": "markdown",
   "metadata": {},
   "source": [
    "Proposals:\n",
    "\n",
    "- ~~Standardize `&amp;` to &~~\n",
    "- ~~Standardize `&#039;` to '~~\n",
    "- Delete `,` in all tags with it, possibly to be replaced by - or just a space\n",
    "- For slashes:\n",
    "  - When two forms (scientific / non-scientific transliteration, transliteration / TL, multiple TLs), prioritize scientific transliteration\n",
    "  - For states: TBD based on most common\n",
    "  - When one is an abbreviation, prioritize non-abbreviated form or split\n",
    "  - Delete tag `void/non-marriage`\n",
    "  - Keep all others\n",
    "\n",
    "In the future, prohibit `,` in tags and encourage just using scientific transliterations, no TL or non-scientific ones in same tag\n",
    "\n",
    "**GHP**:\n",
    "I agree with the recommendations. Lots of rubbish here.\n",
    "\n",
    "- `William & Marry` -> I'm guessing `William and Mary`\n",
    "- `S&P 500 Shariah` -> Should these be separate tags?\n",
    "- `Middle East & Islamic Studies Databases for Research: Islamic Studies Databases` -> Are these sentence-long tags even useful?\n",
    "\n"
   ]
  },
  {
   "cell_type": "markdown",
   "metadata": {},
   "source": [
    "# Find repeats using string transforms\n",
    "\n",
    "<div class=\"alert alert-block alert-info\">\n",
    "<b>GHP:</b>I expanded your approach here with a few more transformations that seemed useful to me, namely full-on string fingerprinting, stop word removal, and bi-gram fingerprinting. The results are grouped into \"merge clusters\", like you had them, but I added some code to abstract them at the level of ids to make it easier to apply the merges. I also pulled some stats to see how the different approaches perform just for fun.\n",
    "\n",
    "PS: If you haven't encountered the [Abydos package](https://abydos.readthedocs.io/en/latest/abydos.distance.html) before, it's totally worth a look!</div>\n",
    "\n"
   ]
  },
  {
   "cell_type": "code",
   "execution_count": 8,
   "metadata": {},
   "outputs": [],
   "source": [
    "sf = String()\n",
    "qg = QGram()\n",
    "\n",
    "def normalize(tag):\n",
    "    \"\"\"Return normalized tag (ascii encoded and lowercase).\"\"\"\n",
    "    return unicodedata.normalize('NFKD', tag).encode('ascii', 'ignore').lower()\n",
    "\n",
    "def fingerprint(tag):\n",
    "    \"\"\"Return string fingerprint of tag.\"\"\"\n",
    "    tag = sf.fingerprint(tag)\n",
    "    return remove_stopwords(tag) # also remove stop words\n",
    "\n",
    "def ngram(tag):\n",
    "    \"\"\"Return bigram fingerprint of tag.\"\"\"\n",
    "    return qg.fingerprint(tag)\n",
    "\n",
    "# I wrote the code in the rest of this section to be very flexible\n",
    "# so, if you think of any other transforms you want to try, just write a function to apply it, as above\n",
    "# and add it to the list below. Everything else should just work!\n",
    "transforms = [\n",
    "    ('Normalize', normalize),\n",
    "    ('Fingerprint', fingerprint),\n",
    "    ('N-Gram', ngram),\n",
    "]\n",
    "\n",
    "def apply_transforms(tag_tuple):\n",
    "    \"\"\"Return tuple consisting of tag id, tag name, and transformed versions of tag as defined in `transforms`.\"\"\"\n",
    "    if not tag_tuple or not isinstance(tag_tuple, tuple):\n",
    "        return [None] * (len(transforms) + 2)\n",
    "\n",
    "    # we include the result AND the name of the transform in a tuple (the latter is for statistical purposes)\n",
    "    return (*tag_tuple, *[(i[0], i[1](tag_tuple[1])) for i in transforms])\n"
   ]
  },
  {
   "cell_type": "code",
   "execution_count": 10,
   "metadata": {},
   "outputs": [
    {
     "name": "stdout",
     "output_type": "stream",
     "text": [
      "Normalize matched 82 tags.\n",
      "Fingerprint matched 170 tags.\n",
      "N-Gram matched 97 tags.\n",
      "Grouped 355 tags into 165 merge clusters.\n"
     ]
    },
    {
     "data": {
      "application/vnd.plotly.v1+json": {
       "config": {
        "plotlyServerURL": "https://plot.ly"
       },
       "data": [
        {
         "alignmentgroup": "True",
         "hovertemplate": "Type=Overlaps<br>Transform=%{x}<br>Count=%{y}<extra></extra>",
         "legendgroup": "Overlaps",
         "marker": {
          "color": "#636efa",
          "pattern": {
           "shape": ""
          }
         },
         "name": "Overlaps",
         "offsetgroup": "Overlaps",
         "orientation": "v",
         "showlegend": true,
         "textposition": "auto",
         "type": "bar",
         "x": [
          "Normalize",
          "Fingerprint",
          "N-Gram"
         ],
         "xaxis": "x",
         "y": [
          82,
          95,
          95
         ],
         "yaxis": "y"
        },
        {
         "alignmentgroup": "True",
         "hovertemplate": "Type=Unique IDs<br>Transform=%{x}<br>Count=%{y}<extra></extra>",
         "legendgroup": "Unique IDs",
         "marker": {
          "color": "#EF553B",
          "pattern": {
           "shape": ""
          }
         },
         "name": "Unique IDs",
         "offsetgroup": "Unique IDs",
         "orientation": "v",
         "showlegend": true,
         "textposition": "auto",
         "type": "bar",
         "x": [
          "Normalize",
          "Fingerprint",
          "N-Gram"
         ],
         "xaxis": "x",
         "y": [
          9,
          118,
          13
         ],
         "yaxis": "y"
        }
       ],
       "layout": {
        "barmode": "relative",
        "legend": {
         "title": {
          "text": "Type"
         },
         "tracegroupgap": 0
        },
        "template": {
         "data": {
          "bar": [
           {
            "error_x": {
             "color": "#2a3f5f"
            },
            "error_y": {
             "color": "#2a3f5f"
            },
            "marker": {
             "line": {
              "color": "#E5ECF6",
              "width": 0.5
             },
             "pattern": {
              "fillmode": "overlay",
              "size": 10,
              "solidity": 0.2
             }
            },
            "type": "bar"
           }
          ],
          "barpolar": [
           {
            "marker": {
             "line": {
              "color": "#E5ECF6",
              "width": 0.5
             },
             "pattern": {
              "fillmode": "overlay",
              "size": 10,
              "solidity": 0.2
             }
            },
            "type": "barpolar"
           }
          ],
          "carpet": [
           {
            "aaxis": {
             "endlinecolor": "#2a3f5f",
             "gridcolor": "white",
             "linecolor": "white",
             "minorgridcolor": "white",
             "startlinecolor": "#2a3f5f"
            },
            "baxis": {
             "endlinecolor": "#2a3f5f",
             "gridcolor": "white",
             "linecolor": "white",
             "minorgridcolor": "white",
             "startlinecolor": "#2a3f5f"
            },
            "type": "carpet"
           }
          ],
          "choropleth": [
           {
            "colorbar": {
             "outlinewidth": 0,
             "ticks": ""
            },
            "type": "choropleth"
           }
          ],
          "contour": [
           {
            "colorbar": {
             "outlinewidth": 0,
             "ticks": ""
            },
            "colorscale": [
             [
              0,
              "#0d0887"
             ],
             [
              0.1111111111111111,
              "#46039f"
             ],
             [
              0.2222222222222222,
              "#7201a8"
             ],
             [
              0.3333333333333333,
              "#9c179e"
             ],
             [
              0.4444444444444444,
              "#bd3786"
             ],
             [
              0.5555555555555556,
              "#d8576b"
             ],
             [
              0.6666666666666666,
              "#ed7953"
             ],
             [
              0.7777777777777778,
              "#fb9f3a"
             ],
             [
              0.8888888888888888,
              "#fdca26"
             ],
             [
              1,
              "#f0f921"
             ]
            ],
            "type": "contour"
           }
          ],
          "contourcarpet": [
           {
            "colorbar": {
             "outlinewidth": 0,
             "ticks": ""
            },
            "type": "contourcarpet"
           }
          ],
          "heatmap": [
           {
            "colorbar": {
             "outlinewidth": 0,
             "ticks": ""
            },
            "colorscale": [
             [
              0,
              "#0d0887"
             ],
             [
              0.1111111111111111,
              "#46039f"
             ],
             [
              0.2222222222222222,
              "#7201a8"
             ],
             [
              0.3333333333333333,
              "#9c179e"
             ],
             [
              0.4444444444444444,
              "#bd3786"
             ],
             [
              0.5555555555555556,
              "#d8576b"
             ],
             [
              0.6666666666666666,
              "#ed7953"
             ],
             [
              0.7777777777777778,
              "#fb9f3a"
             ],
             [
              0.8888888888888888,
              "#fdca26"
             ],
             [
              1,
              "#f0f921"
             ]
            ],
            "type": "heatmap"
           }
          ],
          "heatmapgl": [
           {
            "colorbar": {
             "outlinewidth": 0,
             "ticks": ""
            },
            "colorscale": [
             [
              0,
              "#0d0887"
             ],
             [
              0.1111111111111111,
              "#46039f"
             ],
             [
              0.2222222222222222,
              "#7201a8"
             ],
             [
              0.3333333333333333,
              "#9c179e"
             ],
             [
              0.4444444444444444,
              "#bd3786"
             ],
             [
              0.5555555555555556,
              "#d8576b"
             ],
             [
              0.6666666666666666,
              "#ed7953"
             ],
             [
              0.7777777777777778,
              "#fb9f3a"
             ],
             [
              0.8888888888888888,
              "#fdca26"
             ],
             [
              1,
              "#f0f921"
             ]
            ],
            "type": "heatmapgl"
           }
          ],
          "histogram": [
           {
            "marker": {
             "pattern": {
              "fillmode": "overlay",
              "size": 10,
              "solidity": 0.2
             }
            },
            "type": "histogram"
           }
          ],
          "histogram2d": [
           {
            "colorbar": {
             "outlinewidth": 0,
             "ticks": ""
            },
            "colorscale": [
             [
              0,
              "#0d0887"
             ],
             [
              0.1111111111111111,
              "#46039f"
             ],
             [
              0.2222222222222222,
              "#7201a8"
             ],
             [
              0.3333333333333333,
              "#9c179e"
             ],
             [
              0.4444444444444444,
              "#bd3786"
             ],
             [
              0.5555555555555556,
              "#d8576b"
             ],
             [
              0.6666666666666666,
              "#ed7953"
             ],
             [
              0.7777777777777778,
              "#fb9f3a"
             ],
             [
              0.8888888888888888,
              "#fdca26"
             ],
             [
              1,
              "#f0f921"
             ]
            ],
            "type": "histogram2d"
           }
          ],
          "histogram2dcontour": [
           {
            "colorbar": {
             "outlinewidth": 0,
             "ticks": ""
            },
            "colorscale": [
             [
              0,
              "#0d0887"
             ],
             [
              0.1111111111111111,
              "#46039f"
             ],
             [
              0.2222222222222222,
              "#7201a8"
             ],
             [
              0.3333333333333333,
              "#9c179e"
             ],
             [
              0.4444444444444444,
              "#bd3786"
             ],
             [
              0.5555555555555556,
              "#d8576b"
             ],
             [
              0.6666666666666666,
              "#ed7953"
             ],
             [
              0.7777777777777778,
              "#fb9f3a"
             ],
             [
              0.8888888888888888,
              "#fdca26"
             ],
             [
              1,
              "#f0f921"
             ]
            ],
            "type": "histogram2dcontour"
           }
          ],
          "mesh3d": [
           {
            "colorbar": {
             "outlinewidth": 0,
             "ticks": ""
            },
            "type": "mesh3d"
           }
          ],
          "parcoords": [
           {
            "line": {
             "colorbar": {
              "outlinewidth": 0,
              "ticks": ""
             }
            },
            "type": "parcoords"
           }
          ],
          "pie": [
           {
            "automargin": true,
            "type": "pie"
           }
          ],
          "scatter": [
           {
            "fillpattern": {
             "fillmode": "overlay",
             "size": 10,
             "solidity": 0.2
            },
            "type": "scatter"
           }
          ],
          "scatter3d": [
           {
            "line": {
             "colorbar": {
              "outlinewidth": 0,
              "ticks": ""
             }
            },
            "marker": {
             "colorbar": {
              "outlinewidth": 0,
              "ticks": ""
             }
            },
            "type": "scatter3d"
           }
          ],
          "scattercarpet": [
           {
            "marker": {
             "colorbar": {
              "outlinewidth": 0,
              "ticks": ""
             }
            },
            "type": "scattercarpet"
           }
          ],
          "scattergeo": [
           {
            "marker": {
             "colorbar": {
              "outlinewidth": 0,
              "ticks": ""
             }
            },
            "type": "scattergeo"
           }
          ],
          "scattergl": [
           {
            "marker": {
             "colorbar": {
              "outlinewidth": 0,
              "ticks": ""
             }
            },
            "type": "scattergl"
           }
          ],
          "scattermapbox": [
           {
            "marker": {
             "colorbar": {
              "outlinewidth": 0,
              "ticks": ""
             }
            },
            "type": "scattermapbox"
           }
          ],
          "scatterpolar": [
           {
            "marker": {
             "colorbar": {
              "outlinewidth": 0,
              "ticks": ""
             }
            },
            "type": "scatterpolar"
           }
          ],
          "scatterpolargl": [
           {
            "marker": {
             "colorbar": {
              "outlinewidth": 0,
              "ticks": ""
             }
            },
            "type": "scatterpolargl"
           }
          ],
          "scatterternary": [
           {
            "marker": {
             "colorbar": {
              "outlinewidth": 0,
              "ticks": ""
             }
            },
            "type": "scatterternary"
           }
          ],
          "surface": [
           {
            "colorbar": {
             "outlinewidth": 0,
             "ticks": ""
            },
            "colorscale": [
             [
              0,
              "#0d0887"
             ],
             [
              0.1111111111111111,
              "#46039f"
             ],
             [
              0.2222222222222222,
              "#7201a8"
             ],
             [
              0.3333333333333333,
              "#9c179e"
             ],
             [
              0.4444444444444444,
              "#bd3786"
             ],
             [
              0.5555555555555556,
              "#d8576b"
             ],
             [
              0.6666666666666666,
              "#ed7953"
             ],
             [
              0.7777777777777778,
              "#fb9f3a"
             ],
             [
              0.8888888888888888,
              "#fdca26"
             ],
             [
              1,
              "#f0f921"
             ]
            ],
            "type": "surface"
           }
          ],
          "table": [
           {
            "cells": {
             "fill": {
              "color": "#EBF0F8"
             },
             "line": {
              "color": "white"
             }
            },
            "header": {
             "fill": {
              "color": "#C8D4E3"
             },
             "line": {
              "color": "white"
             }
            },
            "type": "table"
           }
          ]
         },
         "layout": {
          "annotationdefaults": {
           "arrowcolor": "#2a3f5f",
           "arrowhead": 0,
           "arrowwidth": 1
          },
          "autotypenumbers": "strict",
          "coloraxis": {
           "colorbar": {
            "outlinewidth": 0,
            "ticks": ""
           }
          },
          "colorscale": {
           "diverging": [
            [
             0,
             "#8e0152"
            ],
            [
             0.1,
             "#c51b7d"
            ],
            [
             0.2,
             "#de77ae"
            ],
            [
             0.3,
             "#f1b6da"
            ],
            [
             0.4,
             "#fde0ef"
            ],
            [
             0.5,
             "#f7f7f7"
            ],
            [
             0.6,
             "#e6f5d0"
            ],
            [
             0.7,
             "#b8e186"
            ],
            [
             0.8,
             "#7fbc41"
            ],
            [
             0.9,
             "#4d9221"
            ],
            [
             1,
             "#276419"
            ]
           ],
           "sequential": [
            [
             0,
             "#0d0887"
            ],
            [
             0.1111111111111111,
             "#46039f"
            ],
            [
             0.2222222222222222,
             "#7201a8"
            ],
            [
             0.3333333333333333,
             "#9c179e"
            ],
            [
             0.4444444444444444,
             "#bd3786"
            ],
            [
             0.5555555555555556,
             "#d8576b"
            ],
            [
             0.6666666666666666,
             "#ed7953"
            ],
            [
             0.7777777777777778,
             "#fb9f3a"
            ],
            [
             0.8888888888888888,
             "#fdca26"
            ],
            [
             1,
             "#f0f921"
            ]
           ],
           "sequentialminus": [
            [
             0,
             "#0d0887"
            ],
            [
             0.1111111111111111,
             "#46039f"
            ],
            [
             0.2222222222222222,
             "#7201a8"
            ],
            [
             0.3333333333333333,
             "#9c179e"
            ],
            [
             0.4444444444444444,
             "#bd3786"
            ],
            [
             0.5555555555555556,
             "#d8576b"
            ],
            [
             0.6666666666666666,
             "#ed7953"
            ],
            [
             0.7777777777777778,
             "#fb9f3a"
            ],
            [
             0.8888888888888888,
             "#fdca26"
            ],
            [
             1,
             "#f0f921"
            ]
           ]
          },
          "colorway": [
           "#636efa",
           "#EF553B",
           "#00cc96",
           "#ab63fa",
           "#FFA15A",
           "#19d3f3",
           "#FF6692",
           "#B6E880",
           "#FF97FF",
           "#FECB52"
          ],
          "font": {
           "color": "#2a3f5f"
          },
          "geo": {
           "bgcolor": "white",
           "lakecolor": "white",
           "landcolor": "#E5ECF6",
           "showlakes": true,
           "showland": true,
           "subunitcolor": "white"
          },
          "hoverlabel": {
           "align": "left"
          },
          "hovermode": "closest",
          "mapbox": {
           "style": "light"
          },
          "paper_bgcolor": "white",
          "plot_bgcolor": "#E5ECF6",
          "polar": {
           "angularaxis": {
            "gridcolor": "white",
            "linecolor": "white",
            "ticks": ""
           },
           "bgcolor": "#E5ECF6",
           "radialaxis": {
            "gridcolor": "white",
            "linecolor": "white",
            "ticks": ""
           }
          },
          "scene": {
           "xaxis": {
            "backgroundcolor": "#E5ECF6",
            "gridcolor": "white",
            "gridwidth": 2,
            "linecolor": "white",
            "showbackground": true,
            "ticks": "",
            "zerolinecolor": "white"
           },
           "yaxis": {
            "backgroundcolor": "#E5ECF6",
            "gridcolor": "white",
            "gridwidth": 2,
            "linecolor": "white",
            "showbackground": true,
            "ticks": "",
            "zerolinecolor": "white"
           },
           "zaxis": {
            "backgroundcolor": "#E5ECF6",
            "gridcolor": "white",
            "gridwidth": 2,
            "linecolor": "white",
            "showbackground": true,
            "ticks": "",
            "zerolinecolor": "white"
           }
          },
          "shapedefaults": {
           "line": {
            "color": "#2a3f5f"
           }
          },
          "ternary": {
           "aaxis": {
            "gridcolor": "white",
            "linecolor": "white",
            "ticks": ""
           },
           "baxis": {
            "gridcolor": "white",
            "linecolor": "white",
            "ticks": ""
           },
           "bgcolor": "#E5ECF6",
           "caxis": {
            "gridcolor": "white",
            "linecolor": "white",
            "ticks": ""
           }
          },
          "title": {
           "x": 0.05
          },
          "xaxis": {
           "automargin": true,
           "gridcolor": "white",
           "linecolor": "white",
           "ticks": "",
           "title": {
            "standoff": 15
           },
           "zerolinecolor": "white",
           "zerolinewidth": 2
          },
          "yaxis": {
           "automargin": true,
           "gridcolor": "white",
           "linecolor": "white",
           "ticks": "",
           "title": {
            "standoff": 15
           },
           "zerolinecolor": "white",
           "zerolinewidth": 2
          }
         }
        },
        "title": {
         "text": "Unique Contribution and Overlap per Transform"
        },
        "xaxis": {
         "anchor": "y",
         "domain": [
          0,
          1
         ],
         "title": {
          "text": "Transform"
         }
        },
        "yaxis": {
         "anchor": "x",
         "domain": [
          0,
          1
         ],
         "title": {
          "text": "Count"
         }
        }
       }
      }
     },
     "metadata": {},
     "output_type": "display_data"
    }
   ],
   "source": [
    "# get unprocessed tags as (id, name) tuples\n",
    "tags = list(dataset.loc[dataset['target'].isnull()][['id', 'name']].itertuples(index=False, name=None))\n",
    "pairs = [] # to store pairs of matched tags\n",
    "clusters = [] # to store groups of tags matched to each other\n",
    "methods = {} # to keep track of which methods match what for stats\n",
    "transformed_tuples = [apply_transforms(i) for i in tags]\n",
    "\n",
    "# compute basic statistics\n",
    "for i, transform in enumerate(transforms):\n",
    "    transformed_tags = [t[i+2] for t in transformed_tuples]\n",
    "    u_transformed_tags = list(set(transformed_tags))\n",
    "    print(f'{transform[0]} matched {len(transformed_tags)-len(u_transformed_tags)} tags.')\n",
    "\n",
    "# generate matched pairs\n",
    "for tag in transformed_tuples:\n",
    "    test_list = [i for i in transformed_tuples if i[0] != tag[0]]  # remove current tag from contention\n",
    "    for test in test_list:\n",
    "        # if they are the same tag, then at least one of the transforms should match\n",
    "        test_set = set(test[2:]).intersection(tag[2:])\n",
    "        if test_set:\n",
    "            # we store pairs of matched tags as sets because sets\n",
    "            # are unordered, so we can test for their presence regardless of which tag comes first\n",
    "            result = {tag[0], test[0]}\n",
    "            for t in test_set:\n",
    "                if result not in pairs:\n",
    "                    pairs.append(result)\n",
    "                if tuple(result) in methods:\n",
    "                    methods[tuple(result)].append(t[0])\n",
    "                else:\n",
    "                    methods[tuple(result)] = [t[0]]\n",
    "\n",
    "# cluster matched pairs\n",
    "for p in pairs:\n",
    "    for c in clusters:\n",
    "        if c.intersection(p):\n",
    "            c.update(p)\n",
    "            break\n",
    "    else:\n",
    "        clusters.append(p)\n",
    "\n",
    "print(f'Grouped {len(set().union(*clusters))} tags into {len(clusters)} merge clusters.')\n",
    "\n",
    "# compile stats\n",
    "stats = []\n",
    "t_list = [i[0] for i in transforms]\n",
    "for t in t_list:\n",
    "    matching_pairs = [v for _, v in methods.items() if t in v]\n",
    "    rest = t_list.copy()\n",
    "    rest.remove(t)\n",
    "    overlaps = len([i for i in matching_pairs if set(rest).intersection(i)])\n",
    "    stats.append(['Overlaps', t, overlaps])\n",
    "    stats.append(['Unique IDs', t, len(matching_pairs) - overlaps])\n",
    "\n",
    "stats_df = pd.DataFrame(stats)\n",
    "stats_df.columns =['Type', 'Transform', 'Count']\n",
    "\n",
    "# show contribution of each transform\n",
    "fig = px.bar(\n",
    "    stats_df,\n",
    "    x='Transform',\n",
    "    y='Count',\n",
    "    color='Type',\n",
    "    title='Unique Contribution and Overlap per Transform',\n",
    ")\n",
    "fig.show()\n",
    "\n"
   ]
  },
  {
   "cell_type": "code",
   "execution_count": 11,
   "metadata": {},
   "outputs": [
    {
     "name": "stdout",
     "output_type": "stream",
     "text": [
      "{6462, 1358}: Academic freedom, academic freedom\n",
      "{1362, 2607}: Anglo-Muhammadan Law, Anglo Muhammadan law\n",
      "{1617, 7283}: Call for papers, Call for Papers\n",
      "{1385, 1741}: Civil rights, Civil Rights\n",
      "{1387, 6886}: Clerics, clerics\n",
      "{2465, 1388}: Comparative law, comparative law\n",
      "{6841, 2972, 1391}: Constitutional law, constitutional law, U.S. constitutional law\n",
      "{1392, 1746}: constitutions, constitution\n",
      "{1393, 7303}: Contract law, contract law\n",
      "{5225, 1397}: Courts, courts\n",
      "{2624, 1398}: Criminal law, criminal law\n",
      "{1625, 2605, 5943}: darul-qaza, dar-ul-qaza system, Darul Qaza\n",
      "{3409, 1626}: Data, data\n",
      "{2728, 1404}: Digital Humanities, digital humanities\n",
      "{4457, 1405}: digital Islamic humanities, Islamic digital humanities\n",
      "{2929, 1406}: Digital Islamic law, Digital Islamic Law\n",
      "{2816, 2817}: Digital Islamic Law Collection, digital islamic law collection\n",
      "{2837, 2606}: Digital Islamic Law Lab, digital islamic law lab\n",
      "{2452, 1629}: divorce, Divorce\n",
      "{4276, 1413}: Employment law, employment law\n",
      "{4433, 1419}: Events, events\n",
      "{2064, 2065}: Expert Commentary, expert commentary\n",
      "{1424, 2528}: Family law, family law\n",
      "{2433, 2756}: In The News, in the news\n",
      "{4188, 1446}: Intellectual Property, intellectual property\n",
      "{1811, 2397}: International Law, international law\n",
      "{1813, 1447}: Interview, interview\n",
      "{2723, 2788}: Islam and Data Science Roundup, Islam and data science roundup\n",
      "{3027, 1454}: Islamic Finance, Islamic finance\n",
      "{5377, 1458, 4498}: Islamic Law in US Courts, Islamic law in U.S. courts, Islamic law in US courts\n",
      "{4069, 1470}: Jurisdiction, jurisdiction\n",
      "{1474, 6829}: Koran, The Koran\n",
      "{1649, 2980}: laïcité, laicite\n",
      "{1590, 1480, 2463}: Legal history, U.S. legal history, legal history\n",
      "{3576, 1651}: Malikī, Mālikī\n",
      "{1489, 2358}: Malikī law, Mālikī Law\n",
      "{1490, 2451}: marriage, Marriage\n",
      "{1491, 1863}: Media, media\n",
      "{2497, 1498}: Muslim jurists, Muslim Jurists\n",
      "{1502, 2623}: Nigeria, nigeria\n",
      "{2517, 3640, 1503}: nikah, nikāh, nikāḥ\n",
      "{4434, 1508}: Opportunities, opportunities\n",
      "{5035, 1518}: Pluralism, pluralism\n",
      "{2081, 2044}: Podcasts, podcasts\n",
      "{1522, 7293}: Privacy, privacy\n",
      "{4800, 1526, 4268}: Property law, property and law, property law\n",
      "{4296, 1533}: Recent developments, recent developments\n",
      "{1537, 2599}: Research, research\n",
      "{5965, 6039}: Resource Roundup, resource roundup\n",
      "{1542, 5135}: Rule of law, rule of law\n",
      "{1960, 2396, 3919}: Sharīʿa, shari’a, sharīʿa\n",
      "{1560, 4564}: Shīʽī, Shīʿī\n",
      "{1568, 4644, 4488, 5451}: Supreme Court of Pakistan, Supreme Court (Pakistan), Supreme Court of Pakistan’, The Supreme Court of Pakistan\n",
      "{1579, 3733}: tazir, ta'zīr\n",
      "{1586, 3587}: U.K., UK\n",
      "{1773, 1663}: U.S. Elections, elections\n",
      "{1589, 1598}: U.S. law and policy, US law and policy\n",
      "{5218, 2771, 1971, 5503}: U.S. Supreme court, Supreme Court, U.S. Supreme Court, US Supreme Court\n",
      "{1600, 4335}: Violence, violence\n",
      "{2760, 2512}: Waqf, waqf\n",
      "{1601, 2530}: Women's Rights, women's rights\n",
      "{7630, 7647}: ::Roundtable:: Transformation and Adaptation of Ottoman Land Law in 19th-Century Successor States, ::Roundtable:: Transformation and Adaptation of Ottoman Land Law in 19th-Century Successor States ::Roundtable:: Transformation and Adaptation of Ottoman Land Law in 19th-Century Successor States\n",
      "{2794, 2795}: #CaseRoundup, CaseRoundup\n",
      "{6660, 5934}: Abdumukhtor Rakhmanov, Rakhmanov Abdumukhtor\n",
      "{3060, 7964, 2477}: About Gender, and gender, gender\n",
      "{6269, 4717}: Abū Ḥanīfa, Abu Hanifa\n",
      "{3896, 4473}: Accounting and Auditing Organization for Islamic Financial Institutions, Accounting and Auditing Organization of Islamic Financial Institutions\n",
      "{6069, 1686}: Adnan A. Zulfiqar, Adnan Zulfiqar\n",
      "{4856, 2562}: Al-Muwatta, al-Muwaṭṭaʾ\n",
      "{4555, 7413}: al-Shāfi‘ī, Al-Shāfiʿī\n",
      "{7056, 4524}: Ali al-Sistani, ʿAlī al-Sīstānī\n",
      "{3440, 6489}: Amaney A. Jamal, Amaney Jamal\n",
      "{2970, 2971}: American Society for Comparative Law, American Society of Comparative Law\n",
      "{6073, 6111}: American University in Cairo, The American University in Cairo\n",
      "{6836, 6917}: Amrin, Amrin Amrin\n",
      "{5201, 7485}: and the Modern State, modern state\n",
      "{5867, 4236}: Âshūrā, Āshūrāʾ\n",
      "{2683, 2660}: Black Death, The Black Death\n",
      "{2306, 2198}: Boğaç A. Ergene, Boğaç Ergene\n",
      "{5148, 5149}: Bronx, Bronx fire\n",
      "{7721, 7691}: call for panel proposals, panel proposals\n",
      "{4688, 3428, 4397}: call for prayer, call to prayer, prayer\n",
      "{6732, 6790}: Cases & Fatwās, cases and fatwās\n",
      "{3658, 2916}: Center for Middle Eastern Studies, The Center for Middle Eastern Studies\n",
      "{6020, 5110}: children's rights, Children's Rights Bill\n",
      "{2361, 2159}: Connell Monette, Connell Monnette\n",
      "{2626, 2555}: corona virus, coronavirus\n",
      "{3848, 5220}: Council of Indonesian Ulama, Indonesian Ulama Council\n",
      "{4179, 6061}: Council of Islamic Ideology, The Council of Islamic Ideology\n",
      "{5614, 2830}: dar al-ifta, Dār al-Iftāʾ\n",
      "{5850, 5171}: de-radicalization, deradicalization\n",
      "{3248, 6226}: Fahad A. Bishara, Fahad Bishara\n",
      "{6803, 7381, 7294}: Fatwā Council (UAE), The UAE Council for Fatwa, UAE Council for Fatwa\n",
      "{5319, 7327}: Federal Court (Malaysia), Federal Court of Malaysia\n",
      "{5078, 2075, 2460}: hadith, ḥadīṯh, ḥadīth\n",
      "{5119, 5079}: ḥadīṯh dating, ḥadīth dating\n",
      "{2632, 4528}: Hajj, ḥajj\n",
      "{5987, 4156}: halal economy, ḥalāl economy\n",
      "{5322, 6155}: halal meat, ḥalāl meat\n",
      "{3197, 4269}: Hamburg University, University of Hamburg\n",
      "{5749, 1718}: Ḥanafī, Hanafi\n",
      "{7449, 2313}: Ḥanafī law, Hanafi Law\n",
      "{7518, 7183}: Ḥaram, haram\n",
      "{5889, 3588, 7519}: High Court in Malaysia, High Court of Malaysia, The High Court of Malaysia\n",
      "{5449, 5258}: High Court of Karnataka, Karnataka High Court\n",
      "{5657, 5450}: ḥijāb ban, hijāb ban\n",
      "{6992, 1801}: Hossein Modarresi, Hossein Modarressi\n",
      "{2948, 3742}: hudūd, ḥudūd\n",
      "{4921, 3835}: Ḥujja, Hujja\n",
      "{4448, 4604}: In the Sultan’s Salon: Learning, n the Sultan’s Salon: Learning\n",
      "{5995, 6046}: Indo-Vac, Indovac\n",
      "{7939, 3127}: inter-faith marriages, interfaith marriages\n",
      "{3713, 1810, 3747, 3925, 6328, 4891}: interest, make up, UN, US, WHO, will\n",
      "{6832, 3373}: International Islamic law, Islamic international law\n",
      "{8006, 1814}: Intisar A. Rabb, Intisar Rabb\n",
      "{4088, 7470, 6999}: Islamic Finance Guru, IslamicFinanceGuru, The Islamic Finance Guru\n",
      "{7865, 7444}: Islamic law and enforcement, Islamic law enforcement\n",
      "{6147, 5359}: Islamic law and war, Islamic law of war\n",
      "{5937, 3482}: Islamic law principles, principles of Islamic law\n",
      "{2692, 2927}: Islamicate Digital Humanities Network, The Islamicate Digital Humanities Network\n",
      "{2442, 1829}: Jeffrey A. Redding, Jeffrey Redding\n",
      "{4242, 5044}: judiciary, US judiciary\n",
      "{2833, 6186}: Julie A. Fraser, Julie Fraser\n",
      "{3968, 2367}: Khaled A. Beydoun, Khaled Beydoun\n",
      "{4114, 7963}: law, US law\n",
      "{2560, 6026}: Library of Congress, The Library of Congress\n",
      "{3226, 4631}: Maqāsid, maqāṣid\n",
      "{4634, 4755}: maṣlaḥa, maslaha\n",
      "{3528, 4323}: MEM, meme\n",
      "{7398, 7775}: Ministry of Awqaf and Islamic Affairs (Qatar), The Ministry of Awqaf and Islamic Affairs (Qatar)\n",
      "{6405, 5045}: Muenster University, University of Muenster\n",
      "{3590, 4543}: Muḥammad, Muhammad\n",
      "{2921, 7793}: murābaḥa, murabaha\n",
      "{2819, 7093}: Muslim World League, World Muslim League\n",
      "{5017, 4889}: Nation of Islam, The Nation of Islam\n",
      "{3458, 1893}: New York Times, The New York Times\n",
      "{7042, 6356, 5757}: Organisation of Islamic Co-operation, Organisation of Islamic Cooperation, The Organisation of Islamic Cooperation\n",
      "{3154, 5309, 5039}: Organization for Islamic Cooperation, Organization of Islamic Cooperation, The Organization of Islamic Cooperation\n",
      "{3008, 5655}: Oriental Institute, The Oriental Institute\n",
      "{3251, 3335}: Ottoman History Podcast, The Ottoman History Podcast\n",
      "{4425, 6213}: Oxford University, University of Oxford\n",
      "{7800, 7340}: Pew Center, The Pew Center\n",
      "{3934, 1918}: Prince Alwaleed Bin Talal Islamic Studies Program, The Prince Alwaleed Bin Talal Islamic Studies Program\n",
      "{7557, 4886, 3018}: Program on Law & Society in the Muslim World, Program on Law and Society in the Muslim World, The Program on Law and Society in the Muslim World\n",
      "{6102, 6103}: Roshan Institute for Persian Studies, The Roshan Institute for Persian Studies\n",
      "{3509, 3510}: Roshan Institute for Persian Studies at the University of Maryland, The Roshan Institute for Persian Studies at the University of Maryland\n",
      "{6979, 8052}: Samsuddin, Samsuddin Samsuddin\n",
      "{2421, 5479}: Samy A. Ayoub, Samy Ayoub\n",
      "{8013, 5758}: sanctions, US sanctions\n",
      "{5250, 5698}: Shāfi῾ī, Shāfī'ī\n",
      "{6515, 2574}: Shamsad Pasarlay, Shamshad Pasarlay\n",
      "{4213, 5942}: sharḥ, sharḥ\n",
      "{4520, 1964}: Sherman A. Jackson, Sherman Jackson\n",
      "{4235, 4237}: Shī ͑ī, Shī'ī\n",
      "{8073, 8070}: Shuroi Ulamo, The Shuroi Ulamo\n",
      "{5940, 4055}: shurūḥ, shurūḥ\n",
      "{2955, 5581, 7326}: Supreme Court (India), Supreme Court of India, The Supreme Court of India\n",
      "{2712, 4033}: ṭalāq, talaq\n",
      "{3024, 3123}: the United Arab Emirates, United Arab Emirates\n",
      "{6852, 5693}: The United Nations Security Council, United Nations Security Council\n",
      "{5897, 1996}: The Washington Post, Washington Post\n",
      "{1985, 1986}: triple ṭalāq, triple talaq\n",
      "{6938, 6927}: Twelver Usul Bibliography, Twelver Uṣūl Bibliography\n",
      "{4304, 4364}: ulamāʾ, ʿulamāʾ\n",
      "{4333, 6653}: UN Women, women\n"
     ]
    }
   ],
   "source": [
    "# show proposed merge clusters\n",
    "for c in clusters:\n",
    "    tags = list(dataset.loc[dataset.id.isin(c)]['name'])\n",
    "    print(f'{c}: {\", \".join(tags)}')\n"
   ]
  },
  {
   "cell_type": "markdown",
   "metadata": {},
   "source": [
    "## Tentative Proposals:\n",
    "\n",
    "- Use scientific transliteration (exact schema TBD, I recommend marking long vowels, emphatic h, s, t, d, z, q for ق, th for ث, sh for ش, mark 'ayn and final hamza but not initial) except for \"Islam\" and \"Muhammad\" standardize all forms to above\n",
    "    - When multiple unicode renderings of same exist, standardize them all to NFC\n",
    "    - Same for other loans like laïcité\n",
    "\n",
    "- Standardize lower-case except for proper nouns, or just make all lower-case\n",
    "- Can use above dict, method, or output to identify and collapse these"
   ]
  },
  {
   "cell_type": "markdown",
   "metadata": {},
   "source": [
    "# Identifying possible repeats with Levenshtein distance"
   ]
  },
  {
   "cell_type": "code",
   "execution_count": 27,
   "metadata": {},
   "outputs": [
    {
     "name": "stdout",
     "output_type": "stream",
     "text": [
      "502\n",
      "b'academic freedom'\n",
      "\tb'academic freedom', b'academic freedom'\n",
      "b'anglo-muhammadan law'\n",
      "\tb'anglo muhammadan law'\n",
      "b'anglo muhammadan law'\n",
      "\tb'anglo-muhammadan law'\n",
      "b'call for papers'\n",
      "\tb'call for papers', b'call for papers'\n",
      "b'civil rights'\n",
      "\tb'civil rights', b'civil rights'\n",
      "b'clerics'\n",
      "\tb'clerics', b'clerics'\n",
      "b'comparative law'\n",
      "\tb'comparative law', b'comparative law'\n",
      "b'conferences'\n",
      "\tb'conference'\n",
      "b'conference'\n",
      "\tb'conferences'\n",
      "b'constitutional law'\n",
      "\tb'constitutional law', b'constitutional law'\n",
      "b'constitutions'\n",
      "\tb'constitution'\n",
      "b'constitution'\n",
      "\tb'constitutions'\n",
      "b'contract law'\n",
      "\tb'contract law', b'contract law'\n",
      "b'country profile'\n",
      "\tb'country profiles'\n",
      "b'country profiles'\n",
      "\tb'country profile'\n",
      "b'courts'\n",
      "\tb'courts', b'courts'\n",
      "b'criminal law'\n",
      "\tb'criminal law', b'criminal law'\n",
      "b'darul-qaza'\n",
      "\tb'darul qaza'\n",
      "b'darul qaza'\n",
      "\tb'darul-qaza'\n",
      "b'data'\n",
      "\tb'data', b'data', b'hata', b'hata'\n",
      "b'hata'\n",
      "\tb'data', b'data'\n",
      "b'digital humanities'\n",
      "\tb'digital humanities', b'digital humanities'\n",
      "b'digital islamic law'\n",
      "\tb'digital islamic law', b'digital islamic law'\n",
      "b'digital islamic law collection'\n",
      "\tb'digital islamic law collection', b'digital islamic law collection'\n",
      "b'digital islamic law lab'\n",
      "\tb'digital islamic law lab', b'digital islamic law lab', b'digitial islamic law lab', b'digitial islamic law lab'\n",
      "b'digitial islamic law lab'\n",
      "\tb'digital islamic law lab', b'digital islamic law lab'\n",
      "b'divorce'\n",
      "\tb'divorce', b'divorce'\n",
      "b'employment law'\n",
      "\tb'employment law', b'employment law'\n",
      "b'events'\n",
      "\tb'eventds', b'events', b'events', b'eventds'\n",
      "b'eventds'\n",
      "\tb'events', b'events'\n",
      "b'expert commentary'\n",
      "\tb'expert commentary', b'expert commentary'\n",
      "b'family law'\n",
      "\tb'family law', b'family law'\n",
      "b'fatwas'\n",
      "\tb'fatwa'\n",
      "b'fatwa'\n",
      "\tb'fatwas', b'fatawa'\n",
      "b'ghazali'\n",
      "\tb'ghazal'\n",
      "b'ghazal'\n",
      "\tb'ghazali'\n",
      "b'hudood'\n",
      "\tb'hodood'\n",
      "b'hodood'\n",
      "\tb'hudood'\n",
      "b'in the news'\n",
      "\tb'in the news', b'in the news'\n",
      "b'inheritance laws'\n",
      "\tb'inheritance law'\n",
      "b'inheritance law'\n",
      "\tb'inheritance laws'\n",
      "b'intellectual property'\n",
      "\tb'intellectual property', b'intellectual property'\n",
      "b'international law'\n",
      "\tb'international law', b'international law'\n",
      "b'interview'\n",
      "\tb'interview', b'interview', b'interviews', b'interviews'\n",
      "b'interviews'\n",
      "\tb'interview', b'interview'\n",
      "b'islam and data science roundup'\n",
      "\tb'islam and data science roundup', b'islam and data science roundup'\n",
      "b'islamic finance'\n",
      "\tb'islamic fiance', b'islamic finance', b'islamic finance', b'islamic fiance'\n",
      "b'islamic fiance'\n",
      "\tb'islamic finance', b'islamic finance'\n",
      "b'islamic law in us courts'\n",
      "\tb'islamic law in us courts', b'islamic law in us courts'\n",
      "b'jurisdiction'\n",
      "\tb'jurisdiction', b'jurisdiction'\n",
      "b'laicite'\n",
      "\tb'laicite', b'laicite'\n",
      "b'legal history'\n",
      "\tb'legal history', b'legal history'\n",
      "b'maliki'\n",
      "\tb'malik', b'maliki', b'maliki', b'malik'\n",
      "b'malik'\n",
      "\tb'maliki', b'maliki'\n",
      "b'maliki law'\n",
      "\tb'maliki law', b'maliki law'\n",
      "b'marriage'\n",
      "\tb'marriage', b'marriage'\n",
      "b'media'\n",
      "\tb'media', b'media', b'medina', b'medina'\n",
      "b'medina'\n",
      "\tb'media', b'madina', b'media'\n",
      "b'muslim jurists'\n",
      "\tb'muslim jurists', b'muslim jurists'\n",
      "b'nigeria'\n",
      "\tb'nigeria', b'nigeria'\n",
      "b'nikah'\n",
      "\tb'nikah', b'nikah', b'nikah', b'nikah', b'nikah', b'nikah'\n",
      "b'opportunities'\n",
      "\tb'opportunities', b'opportunities'\n",
      "b'persia'\n",
      "\tb'persian'\n",
      "b'persian'\n",
      "\tb'persia'\n",
      "b'pluralism'\n",
      "\tb'pluralism', b'pluralism'\n",
      "b'podcasts'\n",
      "\tb'podcast', b'podcasts', b'podcasts', b'podcast'\n",
      "b'podcast'\n",
      "\tb'podcasts', b'podcasts'\n",
      "b'privacy'\n",
      "\tb'privacy', b'privacy'\n",
      "b'property law'\n",
      "\tb'property law', b'property law', b'property laws', b'property laws'\n",
      "b'property laws'\n",
      "\tb'property law', b'property law'\n",
      "b'recent developments'\n",
      "\tb'recent developments', b'recent developments'\n",
      "b'research'\n",
      "\tb'research', b'research'\n",
      "b'resource roundup'\n",
      "\tb'resource roundup', b'resource roundup'\n",
      "b'response'\n",
      "\tb'responsa'\n",
      "b'responsa'\n",
      "\tb'response'\n",
      "b'rule of law'\n",
      "\tb'rule of law', b'rule of law'\n",
      "b'sharia'\n",
      "\tb'sharia', b'sharia', b'sharia', b'sharia', b'sharia', b'sharia'\n",
      "b'sharia councils'\n",
      "\tb'sharia council'\n",
      "b'sharia council'\n",
      "\tb'sharia councils'\n",
      "b'sharia courts'\n",
      "\tb\"shari'a courts\"\n",
      "b\"shari'a courts\"\n",
      "\tb'sharia courts', b\"shari'a court\"\n",
      "b'shii'\n",
      "\tb'shi i', b\"shi'i\", b'shia', b'shii', b'shii', b'shi i', b\"shi'i\", b'shia'\n",
      "b'shi i'\n",
      "\tb'shii', b\"shi'i\", b'shii'\n",
      "b\"shi'i\"\n",
      "\tb'shii', b'shi i', b'shii'\n",
      "b'shia'\n",
      "\tb'shii', b'shii'\n",
      "b'supreme court of pakistan'\n",
      "\tb'supreme court of pakistan', b'supreme court of pakistan'\n",
      "b'tazir'\n",
      "\tb\"ta'zir\"\n",
      "b\"ta'zir\"\n",
      "\tb'tazir'\n",
      "b'texts'\n",
      "\tb'texas'\n",
      "b'texas'\n",
      "\tb'texts'\n",
      "b'u.s. supreme court'\n",
      "\tb'u.s. supreme court', b'u.s. supreme court'\n",
      "b'violence'\n",
      "\tb'violence', b'violence'\n",
      "b'waqf'\n",
      "\tb'waqf', b'waqf'\n",
      "b\"women's rights\"\n",
      "\tb\"women's right\", b\"women's rights\", b\"women's rights\", b\"women's right\"\n",
      "b\"women's right\"\n",
      "\tb\"women's rights\", b\"women's rights\"\n",
      "b'abbasids'\n",
      "\tb'abbasid'\n",
      "b'abbasid'\n",
      "\tb'abbasids'\n",
      "b\"'abd al-barr ibn al-shihna\"\n",
      "\tb'abd al-barr ibn al-shihna'\n",
      "b'abd al-barr ibn al-shihna'\n",
      "\tb\"'abd al-barr ibn al-shihna\"\n",
      "b'amm'\n",
      "\tb'amn'\n",
      "b'amn'\n",
      "\tb'amm'\n",
      "b'aql'\n",
      "\tb'asl'\n",
      "b'asl'\n",
      "\tb'aql', b'aslh'\n",
      "b'#caseroundup'\n",
      "\tb'caseroundup'\n",
      "b'caseroundup'\n",
      "\tb'#caseroundup'\n",
      "b'2021 american society for legal history annual conference'\n",
      "\tb'2022 american society for legal history annual conference'\n",
      "b'2022 american society for legal history annual conference'\n",
      "\tb'2021 american society for legal history annual conference'\n",
      "b'298-b'\n",
      "\tb'298-c'\n",
      "b'298-c'\n",
      "\tb'298-b'\n",
      "b'6th idhn conference'\n",
      "\tb'8th idhn conference', b'9th idhn conference'\n",
      "b'8th idhn conference'\n",
      "\tb'6th idhn conference', b'9th idhn conference'\n",
      "b'9th idhn conference'\n",
      "\tb'6th idhn conference', b'8th idhn conference'\n",
      "b'aals 2024 meeting'\n",
      "\tb'aals 2025 meeting'\n",
      "b'aals 2025 meeting'\n",
      "\tb'aals 2024 meeting'\n",
      "b'abed awad'\n",
      "\tb'abel awad'\n",
      "b'abel awad'\n",
      "\tb'abed awad'\n",
      "b'abu hanifa'\n",
      "\tb'abu hanifa', b'abu hanifa'\n",
      "b'adab'\n",
      "\tb'adat'\n",
      "b'adat'\n",
      "\tb'adab'\n",
      "b'adam deschriver'\n",
      "\tb'adam deshriver'\n",
      "b'adam deshriver'\n",
      "\tb'adam deschriver'\n",
      "b'adnan zulfiqa'\n",
      "\tb'adnan zulfiqar'\n",
      "b'adnan zulfiqar'\n",
      "\tb'adnan zulfiqa'\n",
      "b'ai'\n",
      "\tb'ais'\n",
      "b'ais'\n",
      "\tb'ai', b'aids', b'aisp'\n",
      "b'aids'\n",
      "\tb'ais'\n",
      "b'aisp'\n",
      "\tb'ais'\n",
      "b'al-muwatta'\n",
      "\tb'al-muwatta', b'al-muwatta'\n",
      "b'al-shafii'\n",
      "\tb'al-shafii', b'al-shafii'\n",
      "b'albani'\n",
      "\tb'albania'\n",
      "b'albania'\n",
      "\tb'albani'\n",
      "b'ali al-sistani'\n",
      "\tb'ali al-sistani', b'ali al-sistani'\n",
      "b'ari schreiber'\n",
      "\tb'ari schriber'\n",
      "b'ari schriber'\n",
      "\tb'ari schreiber'\n",
      "b'ashura'\n",
      "\tb'ashura', b'ashura', b'shura', b'shura'\n",
      "b'shura'\n",
      "\tb'ashura', b'ashura', b'shurta'\n",
      "b'aslh'\n",
      "\tb'asl'\n",
      "b'ban'\n",
      "\tb'bank'\n",
      "b'bank'\n",
      "\tb'ban'\n",
      "b'beard'\n",
      "\tb'beards'\n",
      "b'beards'\n",
      "\tb'beard'\n",
      "b'blasphemy law'\n",
      "\tb'blasphemy laws'\n",
      "b'blasphemy laws'\n",
      "\tb'blasphemy law'\n",
      "b'bn hajar al-haytami'\n",
      "\tb'ibn hajar al-haytami'\n",
      "b'ibn hajar al-haytami'\n",
      "\tb'bn hajar al-haytami'\n",
      "b'caricature'\n",
      "\tb'caricatures'\n",
      "b'caricatures'\n",
      "\tb'caricature'\n",
      "b'ceu'\n",
      "\tb'eu'\n",
      "b'eu'\n",
      "\tb'ceu'\n",
      "b\"children's right\"\n",
      "\tb\"children's rights\"\n",
      "b\"children's rights\"\n",
      "\tb\"children's right\"\n",
      "b'cnc'\n",
      "\tb'cnn'\n",
      "b'cnn'\n",
      "\tb'cnc'\n",
      "b'connell monette'\n",
      "\tb'connell monnette'\n",
      "b'connell monnette'\n",
      "\tb'connell monette'\n",
      "b'corona virus'\n",
      "\tb'coronavirus'\n",
      "b'coronavirus'\n",
      "\tb'corona virus'\n",
      "b'court and canons'\n",
      "\tb'courts and canons'\n",
      "b'courts and canons'\n",
      "\tb'court and canons'\n",
      "b'creamation'\n",
      "\tb'cremation'\n",
      "b'cremation'\n",
      "\tb'creamation'\n",
      "b'daily prayer'\n",
      "\tb'daily prayers'\n",
      "b'daily prayers'\n",
      "\tb'daily prayer'\n",
      "b'dar al-ifta'\n",
      "\tb'dar al-iftaa', b'dar al-ifta', b'dar al-ifta', b'dar al-iftaa'\n",
      "b'dar al-iftaa'\n",
      "\tb'dar al-ifta', b'dar al-ifta'\n",
      "b'darul uloom deoband'\n",
      "\tb'darul uloom deobandh'\n",
      "b'darul uloom deobandh'\n",
      "\tb'darul uloom deoband'\n",
      "b'database'\n",
      "\tb'databases'\n",
      "b'databases'\n",
      "\tb'database'\n",
      "b'de-radicalization'\n",
      "\tb'deradicalization'\n",
      "b'deradicalization'\n",
      "\tb'de-radicalization'\n",
      "b'deoband'\n",
      "\tb'deobandi'\n",
      "b'deobandi'\n",
      "\tb'deoband', b'deobandis'\n",
      "b'deobandis'\n",
      "\tb'deobandi', b'deobandism'\n",
      "b'deobandism'\n",
      "\tb'deobandis'\n",
      "b'dhimmi'\n",
      "\tb'dhimmis'\n",
      "b'dhimmis'\n",
      "\tb'dhimmi'\n",
      "b'digital hadith studies'\n",
      "\tb'digitial hadith studies'\n",
      "b'digitial hadith studies'\n",
      "\tb'digital hadith studies'\n",
      "b'dill'\n",
      "\tb'will'\n",
      "b'will'\n",
      "\tb'dill'\n",
      "b'diya'\n",
      "\tb'diyah', b'diyat'\n",
      "b'diyah'\n",
      "\tb'diya', b'diyat'\n",
      "b'diyat'\n",
      "\tb'diya', b'diyah'\n",
      "b'donation'\n",
      "\tb'donations'\n",
      "b'donations'\n",
      "\tb'donation'\n",
      "b'eid al-fitr'\n",
      "\tb'eid ul-fitr'\n",
      "b'eid ul-fitr'\n",
      "\tb'eid al-fitr'\n",
      "b'emanuel macron'\n",
      "\tb'emmanuel macron'\n",
      "b'emmanuel macron'\n",
      "\tb'emanuel macron'\n",
      "b'emilia justyna powell'\n",
      "\tb'milia justyna powell'\n",
      "b'milia justyna powell'\n",
      "\tb'emilia justyna powell'\n",
      "b'empire'\n",
      "\tb'empires'\n",
      "b'empires'\n",
      "\tb'empire'\n",
      "b'endowment'\n",
      "\tb'endowments'\n",
      "b'endowments'\n",
      "\tb'endowment'\n",
      "b'esg'\n",
      "\tb'esq'\n",
      "b'esq'\n",
      "\tb'esg'\n",
      "b'execution'\n",
      "\tb'executions'\n",
      "b'executions'\n",
      "\tb'execution'\n",
      "b'falah'\n",
      "\tb'fatah'\n",
      "b'fatah'\n",
      "\tb'falah'\n",
      "b'faskh'\n",
      "\tb'naskh'\n",
      "b'naskh'\n",
      "\tb'faskh'\n",
      "b'fatawa'\n",
      "\tb'fatwa'\n",
      "b'fintech'\n",
      "\tb'ifintech'\n",
      "b'ifintech'\n",
      "\tb'fintech'\n",
      "b'friday prayer'\n",
      "\tb'friday prayers'\n",
      "b'friday prayers'\n",
      "\tb'friday prayer'\n",
      "b\"furu'\"\n",
      "\tb'furuq'\n",
      "b'furuq'\n",
      "\tb\"furu'\"\n",
      "b'gcc'\n",
      "\tb'icc', b'ucc'\n",
      "b'icc'\n",
      "\tb'gcc', b'ice', b'imc', b'ucc'\n",
      "b'ucc'\n",
      "\tb'gcc', b'icc'\n",
      "b'ghana'\n",
      "\tb'ghani'\n",
      "b'ghani'\n",
      "\tb'ghana'\n",
      "b'graduation2020'\n",
      "\tb'graduation2022'\n",
      "b'graduation2022'\n",
      "\tb'graduation2020'\n",
      "b'grant'\n",
      "\tb'grants'\n",
      "b'grants'\n",
      "\tb'grant'\n",
      "b'guest editor'\n",
      "\tb'guest editors'\n",
      "b'guest editors'\n",
      "\tb'guest editor', b'guests editors'\n",
      "b'guests editors'\n",
      "\tb'guest editors'\n",
      "b'hadith'\n",
      "\tb'hadith', b'hadith', b'hadith', b'hadith', b'hadith', b'hadith'\n",
      "b'hadith dating'\n",
      "\tb'hadith dating', b'hadith dating'\n",
      "b'haibatullah akhundzada'\n",
      "\tb'hibatullah akhundzada'\n",
      "b'hibatullah akhundzada'\n",
      "\tb'haibatullah akhundzada', b'hebatullah akhundzada', b'hibatullah akhunzada'\n",
      "b'hajj'\n",
      "\tb'hajj', b'hajj', b'hajr', b'hajr'\n",
      "b'hajr'\n",
      "\tb'hajj', b'hajj'\n",
      "b'halal economy'\n",
      "\tb'halal economy', b'halal economy'\n",
      "b'halal meat'\n",
      "\tb'halal meat', b'halal meat'\n",
      "b'hanafi'\n",
      "\tb'hanafi', b'hanafi'\n",
      "b'hanafi law'\n",
      "\tb'hanafi law', b'hanafi law'\n",
      "b'haram'\n",
      "\tb'haram', b'haram', b'harim', b'harim'\n",
      "b'harim'\n",
      "\tb'haram', b'haram', b'haris'\n",
      "b'haris'\n",
      "\tb'harim', b'paris', b'waris'\n",
      "b'paris'\n",
      "\tb'haris', b'waris'\n",
      "b'waris'\n",
      "\tb'haris', b'paris'\n",
      "b'havva guney-rubenacker'\n",
      "\tb'havva guney-ruebenacker'\n",
      "b'havva guney-ruebenacker'\n",
      "\tb'havva guney-rubenacker'\n",
      "b'hebatullah akhundzada'\n",
      "\tb'hibatullah akhundzada'\n",
      "b'hibatullah akhunzada'\n",
      "\tb'hibatullah akhundzada'\n",
      "b'hijab ban'\n",
      "\tb'hijab ban', b'hijab ban'\n",
      "b'hisba'\n",
      "\tb'hisbah'\n",
      "b'hisbah'\n",
      "\tb'hisba'\n",
      "b'hossein modarresi'\n",
      "\tb'hossein modarressi'\n",
      "b'hossein modarressi'\n",
      "\tb'hossein modarresi'\n",
      "b'hub'\n",
      "\tb'hui', b'tub'\n",
      "b'hui'\n",
      "\tb'hub'\n",
      "b'tub'\n",
      "\tb'hub'\n",
      "b'hudud'\n",
      "\tb'hudud', b'hudud'\n",
      "b'hujja'\n",
      "\tb'hujja', b'hujja'\n",
      "b'ibn taymiya'\n",
      "\tb'ibn taymiyya'\n",
      "b'ibn taymiyya'\n",
      "\tb'ibn taymiya', b'ibn taymiyyah'\n",
      "b'ibn taymiyyah'\n",
      "\tb'ibn taymiyya'\n",
      "b'ice'\n",
      "\tb'icc'\n",
      "b'imc'\n",
      "\tb'icc', b'imf'\n",
      "b'iddah'\n",
      "\tb'iddat'\n",
      "b'iddat'\n",
      "\tb'iddah'\n",
      "b'ikitab'\n",
      "\tb'kitab'\n",
      "b'kitab'\n",
      "\tb'ikitab'\n",
      "b'imam'\n",
      "\tb'imami'\n",
      "b'imami'\n",
      "\tb'imam'\n",
      "b'imam hussain'\n",
      "\tb'imam hussein'\n",
      "b'imam hussein'\n",
      "\tb'imam hussain'\n",
      "b'imf'\n",
      "\tb'imc', b'ivf'\n",
      "b'ivf'\n",
      "\tb'imf'\n",
      "b'in the sultans salon: learning'\n",
      "\tb'n the sultans salon: learning'\n",
      "b'n the sultans salon: learning'\n",
      "\tb'in the sultans salon: learning'\n",
      "b'indo-vac'\n",
      "\tb'indovac'\n",
      "b'indovac'\n",
      "\tb'indo-vac'\n",
      "b'indonesia ulema council'\n",
      "\tb'indonesian ulema council'\n",
      "b'indonesian ulema council'\n",
      "\tb'indonesia ulema council', b'indonesian ulama council'\n",
      "b'indonesian ulama council'\n",
      "\tb'indonesian ulema council'\n",
      "b'inter-faith marriages'\n",
      "\tb'interfaith marriages'\n",
      "b'interfaith marriages'\n",
      "\tb'inter-faith marriages', b'interfaith marriage'\n",
      "b'interfaith marriage'\n",
      "\tb'interfaith marriages'\n",
      "b'irshad ahmad ijaz'\n",
      "\tb'irshad ahmed ijaz'\n",
      "b'irshad ahmed ijaz'\n",
      "\tb'irshad ahmad ijaz'\n",
      "b'isil'\n",
      "\tb'isils'\n",
      "b'isils'\n",
      "\tb'isil'\n",
      "b'islam'\n",
      "\tb'islm'\n",
      "b'islm'\n",
      "\tb'islam'\n",
      "b'islamic bank'\n",
      "\tb'islamic banks'\n",
      "b'islamic banks'\n",
      "\tb'islamic bank'\n",
      "b'islamic bond'\n",
      "\tb'islamic bonds'\n",
      "b'islamic bonds'\n",
      "\tb'islamic bond'\n",
      "b'islamic coin'\n",
      "\tb'islamic coins'\n",
      "b'islamic coins'\n",
      "\tb'islamic coin'\n",
      "b'islamic law in the news'\n",
      "\tb'islamic law in thew news'\n",
      "b'islamic law in thew news'\n",
      "\tb'islamic law in the news'\n",
      "b'islamic law of war'\n",
      "\tb'islamic law of wars', b'islamic laws of war'\n",
      "b'islamic law of wars'\n",
      "\tb'islamic law of war'\n",
      "b'islamic laws of war'\n",
      "\tb'islamic law of war'\n",
      "b'islamic legal system'\n",
      "\tb'islamic legal systems'\n",
      "b'islamic legal systems'\n",
      "\tb'islamic legal system'\n",
      "b'islamic scholar'\n",
      "\tb'islamic scholars'\n",
      "b'islamic scholars'\n",
      "\tb'islamic scholar'\n",
      "b'islamic work ethic'\n",
      "\tb'islamic work ethics'\n",
      "b'islamic work ethics'\n",
      "\tb'islamic work ethic'\n",
      "b'islamicate digital humanities network'\n",
      "\tb'slamicate digital humanities network'\n",
      "b'slamicate digital humanities network'\n",
      "\tb'islamicate digital humanities network'\n",
      "b'jamiat ulama-e-hind'\n",
      "\tb'jamiat ulama-i-hind'\n",
      "b'jamiat ulama-i-hind'\n",
      "\tb'jamiat ulama-e-hind'\n",
      "b'judical reform'\n",
      "\tb'judicial reform'\n",
      "b'judicial reform'\n",
      "\tb'judical reform'\n",
      "b'julia stephen'\n",
      "\tb'julia stephens'\n",
      "b'julia stephens'\n",
      "\tb'julia stephen'\n",
      "b'jurist'\n",
      "\tb'jurists'\n",
      "b'jurists'\n",
      "\tb'jurist'\n",
      "b'kadhi court'\n",
      "\tb'kadhi courts'\n",
      "b'kadhi courts'\n",
      "\tb'kadhi court'\n",
      "b\"kafa'ah\"\n",
      "\tb'kafalah'\n",
      "b'kafalah'\n",
      "\tb\"kafa'ah\", b'kafala'\n",
      "b'kafala'\n",
      "\tb'kafalah', b'kafaa', b'karfala'\n",
      "b'kafaa'\n",
      "\tb'kafala'\n",
      "b'karfala'\n",
      "\tb'kafala', b'karbala'\n",
      "b'kafir'\n",
      "\tb'safir'\n",
      "b'safir'\n",
      "\tb'kafir'\n",
      "b'karbala'\n",
      "\tb'karfala'\n",
      "b'kent'\n",
      "\tb'rent'\n",
      "b'rent'\n",
      "\tb'kent'\n",
      "b'khaled abou el fadel'\n",
      "\tb'khaled abou el fadl'\n",
      "b'khaled abou el fadl'\n",
      "\tb'khaled abou el fadel'\n",
      "b\"khul'\"\n",
      "\tb'khula', b'khul'\n",
      "b'khula'\n",
      "\tb\"khul'\", b'khul'\n",
      "b'khul'\n",
      "\tb\"khul'\", b'khula', b'khum'\n",
      "b'khum'\n",
      "\tb'khul'\n",
      "b'kufa'\n",
      "\tb'kufi', b'kufr'\n",
      "b'kufi'\n",
      "\tb'kufa', b'kufr', b'sufi'\n",
      "b'kufr'\n",
      "\tb'kufa', b'kufi'\n",
      "b'sufi'\n",
      "\tb'kufi'\n",
      "b'lahore'\n",
      "\tb'lahori'\n",
      "b'lahori'\n",
      "\tb'lahore'\n",
      "b'law of war'\n",
      "\tb'laws of war'\n",
      "b'laws of war'\n",
      "\tb'law of war'\n",
      "b'lgbt'\n",
      "\tb'lgbtq'\n",
      "b'lgbtq'\n",
      "\tb'lgbt'\n",
      "b'litigation'\n",
      "\tb'mitigation'\n",
      "b'mitigation'\n",
      "\tb'litigation'\n",
      "b'maddhab'\n",
      "\tb'madhhab'\n",
      "b'madhhab'\n",
      "\tb'maddhab'\n",
      "b'madina'\n",
      "\tb'medina'\n",
      "b'majalis'\n",
      "\tb'majlis'\n",
      "b'majlis'\n",
      "\tb'majalis'\n",
      "b'malay'\n",
      "\tb'malaya'\n",
      "b'malaya'\n",
      "\tb'malay'\n",
      "b'mannequin'\n",
      "\tb'mannequins'\n",
      "b'mannequins'\n",
      "\tb'mannequin'\n",
      "b'manuscript'\n",
      "\tb'manuscripts'\n",
      "b'manuscripts'\n",
      "\tb'manuscript'\n",
      "b'maqasid'\n",
      "\tb'maqasid', b'maqasid'\n",
      "b\"maqasid al-shari'a\"\n",
      "\tb'maqasid al-sharia'\n",
      "b'maqasid al-sharia'\n",
      "\tb\"maqasid al-shari'a\"\n",
      "b'maslaha'\n",
      "\tb'maslaha', b'maslaha'\n",
      "b'maternity'\n",
      "\tb'paternity'\n",
      "b'paternity'\n",
      "\tb'maternity'\n",
      "b'mawla'\n",
      "\tb'mawlah'\n",
      "b'mawlah'\n",
      "\tb'mawla'\n",
      "b'mem'\n",
      "\tb'meme'\n",
      "b'meme'\n",
      "\tb'mem'\n",
      "b'mena'\n",
      "\tb'mesa'\n",
      "b'mesa'\n",
      "\tb'mena'\n",
      "b'mesa 2020'\n",
      "\tb'mesa 2021', b'mesa 2022', b'mesa 2023', b'mesa 2024', b'mesa 2025'\n",
      "b'mesa 2021'\n",
      "\tb'mesa 2020', b'mesa 2022', b'mesa 2023', b'mesa 2024', b'mesa 2025'\n",
      "b'mesa 2022'\n",
      "\tb'mesa 2020', b'mesa 2021', b'mesa 2023', b'mesa 2024', b'mesa 2025'\n",
      "b'mesa 2023'\n",
      "\tb'mesa 2020', b'mesa 2021', b'mesa 2022', b'mesa 2024', b'mesa 2025'\n",
      "b'mesa 2024'\n",
      "\tb'mesa 2020', b'mesa 2021', b'mesa 2022', b'mesa 2023', b'mesa 2025'\n",
      "b'mesa 2025'\n",
      "\tb'mesa 2020', b'mesa 2021', b'mesa 2022', b'mesa 2023', b'mesa 2024'\n",
      "b'mesa 2020 annual meeting'\n",
      "\tb'mesa 2022 annual meeting', b'mesa 2023 annual meeting'\n",
      "b'mesa 2022 annual meeting'\n",
      "\tb'mesa 2020 annual meeting', b'mesa 2023 annual meeting'\n",
      "b'mesa 2023 annual meeting'\n",
      "\tb'mesa 2020 annual meeting', b'mesa 2022 annual meeting'\n",
      "b'method'\n",
      "\tb'methods'\n",
      "b'methods'\n",
      "\tb'method'\n",
      "b'milk bank'\n",
      "\tb'milk banks'\n",
      "b'milk banks'\n",
      "\tb'milk bank'\n",
      "b'mirjam kuenkler'\n",
      "\tb'mirjam kunkler'\n",
      "b'mirjam kunkler'\n",
      "\tb'mirjam kuenkler'\n",
      "b'mohammad fadel'\n",
      "\tb'mohammed fadel'\n",
      "b'mohammed fadel'\n",
      "\tb'mohammad fadel'\n",
      "b'mohammad sagha'\n",
      "\tb'mohommad sagha'\n",
      "b'mohommad sagha'\n",
      "\tb'mohammad sagha'\n",
      "b'morocca'\n",
      "\tb'morocco'\n",
      "b'morocco'\n",
      "\tb'morocca', b'morocoo'\n",
      "b'morocoo'\n",
      "\tb'morocco'\n",
      "b'mosque'\n",
      "\tb'mosques'\n",
      "b'mosques'\n",
      "\tb'mosque'\n",
      "b'muhammad'\n",
      "\tb'muhammad', b'muhammad'\n",
      "b'murabaha'\n",
      "\tb'murabaha', b'murabaha'\n",
      "b'muslim cleric'\n",
      "\tb'muslim clerics'\n",
      "b'muslim clerics'\n",
      "\tb'muslim cleric'\n",
      "b'muslim inmate'\n",
      "\tb'muslim inmates'\n",
      "b'muslim inmates'\n",
      "\tb'muslim inmate'\n",
      "b\"mut'a\"\n",
      "\tb\"mut'ah\"\n",
      "b\"mut'ah\"\n",
      "\tb\"mut'a\"\n",
      "b'mutazila'\n",
      "\tb'mutazili'\n",
      "b'mutazili'\n",
      "\tb'mutazila'\n",
      "b'nufadzilah yahaya'\n",
      "\tb'nurfadzilah yahaya'\n",
      "b'nurfadzilah yahaya'\n",
      "\tb'nufadzilah yahaya'\n",
      "b'official gazette'\n",
      "\tb'official gazettes'\n",
      "b'official gazettes'\n",
      "\tb'official gazette'\n",
      "b'ohannes kilicdadgi'\n",
      "\tb'ohannes kilicdagi'\n",
      "b'ohannes kilicdagi'\n",
      "\tb'ohannes kilicdadgi'\n",
      "b'organisation of islamic co-operation'\n",
      "\tb'organisation of islamic cooperation'\n",
      "b'organisation of islamic cooperation'\n",
      "\tb'organisation of islamic co-operation', b'organization of islamic cooperation'\n",
      "b'organization of islamic cooperation'\n",
      "\tb'organisation of islamic cooperation'\n",
      "b'ottoman'\n",
      "\tb'ottomans'\n",
      "b'ottomans'\n",
      "\tb'ottoman'\n",
      "b'pakistan penal code'\n",
      "\tb'pakistani penal code'\n",
      "b'pakistani penal code'\n",
      "\tb'pakistan penal code'\n",
      "b'personal status law'\n",
      "\tb'personal status laws'\n",
      "b'personal status laws'\n",
      "\tb'personal status law'\n",
      "b'pig'\n",
      "\tb'pil'\n",
      "b'pil'\n",
      "\tb'pig'\n",
      "b'prayer time'\n",
      "\tb'prayer times'\n",
      "b'prayer times'\n",
      "\tb'prayer time'\n",
      "b'prison'\n",
      "\tb'prisons'\n",
      "b'prisons'\n",
      "\tb'prison'\n",
      "b'prophet mohammad'\n",
      "\tb'prophet muhammad'\n",
      "b'prophet muhammad'\n",
      "\tb'prophet mohammad'\n",
      "b'prophetic saying'\n",
      "\tb'prophetic sayings'\n",
      "b'prophetic sayings'\n",
      "\tb'prophetic saying'\n",
      "b'qadi'\n",
      "\tb'qadis'\n",
      "b'qadis'\n",
      "\tb'qadi', b'qazis'\n",
      "b'qazis'\n",
      "\tb'qadis'\n",
      "b'qisas'\n",
      "\tb'qistas', b'qiyas'\n",
      "b'qistas'\n",
      "\tb'qisas'\n",
      "b'qiyas'\n",
      "\tb'qisas'\n",
      "b'qurba'\n",
      "\tb'qurra'\n",
      "b'qurra'\n",
      "\tb'qurba'\n",
      "b'rabiat akande'\n",
      "\tb'rabiat okande'\n",
      "b'rabiat okande'\n",
      "\tb'rabiat akande'\n",
      "b'race'\n",
      "\tb'rape'\n",
      "b'rape'\n",
      "\tb'race'\n",
      "b'rachel m. scott'\n",
      "\tb'rachel m. scotta'\n",
      "b'rachel m. scotta'\n",
      "\tb'rachel m. scott'\n",
      "b\"rafi'\"\n",
      "\tb'rafii'\n",
      "b'rafii'\n",
      "\tb\"rafi'\"\n",
      "b'religion'\n",
      "\tb'religions'\n",
      "b'religions'\n",
      "\tb'religion'\n",
      "b'roundtable on islamic family law in the uk: akhter v. khan (2017)'\n",
      "\tb'roundtable on islamic family law in the uk: akhter v. khan (2018)'\n",
      "b'roundtable on islamic family law in the uk: akhter v. khan (2018)'\n",
      "\tb'roundtable on islamic family law in the uk: akhter v. khan (2017)'\n",
      "b'saha aziz'\n",
      "\tb'sahar aziz'\n",
      "b'sahar aziz'\n",
      "\tb'saha aziz'\n",
      "b'secularizarion'\n",
      "\tb'secularization'\n",
      "b'secularization'\n",
      "\tb'secularizarion'\n",
      "b'sex crime'\n",
      "\tb'sex crimes'\n",
      "b'sex crimes'\n",
      "\tb'sex crime'\n",
      "b'shafi i'\n",
      "\tb\"shafi'i\", b'shafii'\n",
      "b\"shafi'i\"\n",
      "\tb'shafi i', b'shafii'\n",
      "b'shafii'\n",
      "\tb'shafi i', b\"shafi'i\"\n",
      "b'shamsad pasarlay'\n",
      "\tb'shamshad pasarlay'\n",
      "b'shamshad pasarlay'\n",
      "\tb'shamsad pasarlay'\n",
      "b'sharh'\n",
      "\tb'sharh', b'sharh'\n",
      "b\"shari'a clause\"\n",
      "\tb'sharia clause'\n",
      "b'sharia clause'\n",
      "\tb\"shari'a clause\"\n",
      "b\"shari'a court\"\n",
      "\tb\"shari'a courts\"\n",
      "b\"shari'a-compliant\"\n",
      "\tb'sharia-compliant'\n",
      "b'sharia-compliant'\n",
      "\tb\"shari'a-compliant\"\n",
      "b'sheikh ahmed al-tayyeb'\n",
      "\tb'sheikh ahmed el-tayyeb'\n",
      "b'sheikh ahmed el-tayyeb'\n",
      "\tb'sheikh ahmed al-tayyeb'\n",
      "b'shoura council'\n",
      "\tb'shura council'\n",
      "b'shura council'\n",
      "\tb'shoura council'\n",
      "b\"shuf'a\"\n",
      "\tb\"shuf'ah\"\n",
      "b\"shuf'ah\"\n",
      "\tb\"shuf'a\"\n",
      "b'shurta'\n",
      "\tb'shura'\n",
      "b'shuruh'\n",
      "\tb'shuruh', b'shuruh'\n",
      "b\"sia khosyi'ah\"\n",
      "\tb\"siah khosyi'ah\"\n",
      "b\"siah khosyi'ah\"\n",
      "\tb\"sia khosyi'ah\"\n",
      "b'sisi'\n",
      "\tb'sissi'\n",
      "b'sissi'\n",
      "\tb'sisi'\n",
      "b'somali'\n",
      "\tb'somalia'\n",
      "b'somalia'\n",
      "\tb'somali'\n",
      "b'staff editor'\n",
      "\tb'staff editors'\n",
      "b'staff editors'\n",
      "\tb'staff editor'\n",
      "b'sunna'\n",
      "\tb'sunni'\n",
      "b'sunni'\n",
      "\tb'sunna'\n",
      "b'taaliban'\n",
      "\tb'taliban'\n",
      "b'taliban'\n",
      "\tb'taaliban'\n",
      "b'tajikistan'\n",
      "\tb'tajikstan'\n",
      "b'tajikstan'\n",
      "\tb'tajikistan'\n",
      "b'talaq'\n",
      "\tb'talaq', b'talaq'\n",
      "b'tan sri muhiyiddin yassin'\n",
      "\tb'tan sri muhyiddin yassin'\n",
      "b'tan sri muhyiddin yassin'\n",
      "\tb'tan sri muhiyiddin yassin'\n",
      "b'the organisation of islamic cooperation'\n",
      "\tb'the organization of islamic cooperation'\n",
      "b'the organization of islamic cooperation'\n",
      "\tb'the organisation of islamic cooperation'\n",
      "b'translatio'\n",
      "\tb'translation'\n",
      "b'translation'\n",
      "\tb'translatio'\n",
      "b'triple talaq'\n",
      "\tb'triple talaq', b'triple talaq'\n",
      "b'twelver usul bibliography'\n",
      "\tb'twelver usul bibliography', b'twelver usul bibliography'\n",
      "b'uighurs'\n",
      "\tb'uyghurs'\n",
      "b'uyghurs'\n",
      "\tb'uighurs'\n",
      "b'uk'\n",
      "\tb'un', b'us'\n",
      "b'un'\n",
      "\tb'uk', b'us'\n",
      "b'us'\n",
      "\tb'uk', b'un'\n",
      "b'ulama council'\n",
      "\tb'ulema council'\n",
      "b'ulema council'\n",
      "\tb'ulama council'\n",
      "b'ulama'\n",
      "\tb'ulama', b'ulama'\n",
      "b'vaccine hesitance'\n",
      "\tb'vaccine hesitancy'\n",
      "b'vaccine hesitancy'\n",
      "\tb'vaccine hesitance'\n",
      "b'zabihullah mujahid'\n",
      "\tb'zabiullah mujahid'\n",
      "b'zabiullah mujahid'\n",
      "\tb'zabihullah mujahid'\n"
     ]
    }
   ],
   "source": [
    "# Use normalized set to minimize other repeats\n",
    "tags = list(dataset.loc[dataset['target'].isnull()]['name'])\n",
    "normalized = [normalize(i) for i in tags]\n",
    "\n",
    "doubles = {} #K is a tag, V is list of tags within one LD of it\n",
    "\n",
    "i = 0\n",
    "while i < len(normalized) - 1:\n",
    "    j = i + 1\n",
    "    while j < len(normalized):\n",
    "        dist = distance(normalized[i], normalized[j])\n",
    "        if dist <= 1:\n",
    "            if(doubles.get(normalized[i])):\n",
    "                doubles[normalized[i]].append(normalized[j])\n",
    "            else:\n",
    "                doubles[normalized[i]] = [normalized[j]]\n",
    "            if(doubles.get(normalized[j])):\n",
    "                doubles[normalized[j]].append(normalized[i])\n",
    "            else:\n",
    "                doubles[normalized[j]] = [normalized[i]]\n",
    "        j += 1\n",
    "    i+= 1\n",
    "\n",
    "print(len(doubles.keys()))\n",
    "\n",
    "for k, v in doubles.items():\n",
    "    print(k)\n",
    "    print(f\"\\t{', '.join([str(var) for var in v])}\")"
   ]
  },
  {
   "cell_type": "markdown",
   "metadata": {},
   "source": [
    "I'll write the above into a .CSV and manually decide on the rest."
   ]
  },
  {
   "cell_type": "code",
   "execution_count": null,
   "metadata": {},
   "outputs": [],
   "source": [
    "with open('ILB Tags_Normalized_LD 1.tsv', 'w') as f:\n",
    "    w = csv.writer(f, delimiter='\\t')\n",
    "    for k, v in doubles.items():\n",
    "        w.writerow([str(k, 'utf-8')] + [str(a, 'utf-8') for a in v])"
   ]
  },
  {
   "cell_type": "markdown",
   "metadata": {},
   "source": [
    "# Analyzing tags that differ by one word\n",
    "\n",
    "We can also use \"word-level\" Lev distance to identify potential overlaps and typos. We'll repeat the above process for this and write a new .tsv.\n",
    "\n",
    "We'll start with an adaptation of the SeqAlign method I've been developing."
   ]
  },
  {
   "cell_type": "code",
   "execution_count": null,
   "metadata": {},
   "outputs": [],
   "source": [
    "def global_align_output(s, words1, words2, tolerance = 1, match = 8, mismatch = -8, ins = -5, delete = -5):\n",
    "\n",
    "    alignments = []\n",
    "\n",
    "    i = len(words1)\n",
    "    j = len(words2)\n",
    "\n",
    "    while i > 0 or j > 0:\n",
    "    \n",
    "        if i == 0 and j > 0:\n",
    "            while j > 0:\n",
    "                alignments += [(\"--\", j-1, 'D')]\n",
    "                j = j-1\n",
    "            continue\n",
    "        if j == 0 and i > 0:\n",
    "            while i > 0:\n",
    "                alignments += [(i-1, \"--\", 'D')]\n",
    "                i = i - 1\n",
    "            continue\n",
    "        \n",
    "        if distance(words2[j-1], words1[i-1]) <= tolerance:\n",
    "            #print(f\"Match found between{words2[j-1]} and {words1[i-1]}\")\n",
    "            score = match\n",
    "        else:\n",
    "            score = mismatch\n",
    "\n",
    "        if score == match and (s[i][j] == s[i-1][j-1] + score):\n",
    "            alignments += [(i-1, j-1, 'M')]\n",
    "            i = i - 1\n",
    "            j = j - 1\n",
    "        \n",
    "        elif s[i][j] == s[i-1][j] + ins:\n",
    "            alignments += [(i-1, \"--\", 'D')]\n",
    "            i = i - 1\n",
    "        \n",
    "        elif s[i][j] == s[i][j-1] + delete:\n",
    "            alignments += [(\"--\", j-1, 'D')]\n",
    "            j = j - 1\n",
    "        else:\n",
    "            alignments += [(i-1, j-1, 'N')]\n",
    "            i = i - 1\n",
    "            j = j - 1\n",
    "    alignments.reverse()\n",
    "    return alignments\n",
    "\n",
    "def seq_align_matrix_no_merge (words1, words2, tolerance = 1, match = 8, mismatch = -8, ins = -5, delete = -5):\n",
    "\n",
    "    s = np.zeros((len(words1)+1, len(words2)+1))\n",
    "    for j in range(1, len(words2)+1):\n",
    "        s[0][j] = ins*j\n",
    "    i = 1\n",
    "    while i < len(words1)+1:\n",
    "        s[i][0] = delete*i\n",
    "        j = 1\n",
    "        while j < len(words2)+1:\n",
    "\n",
    "            cur_tolerance = tolerance\n",
    "            if max(len(words2[j-1]), len(words1[i-1])) < cur_tolerance:\n",
    "                cur_tolerance = 0\n",
    "\n",
    "            cur_distance = distance(words2[j-1], words1[i-1])\n",
    "\n",
    "            if cur_distance <= cur_tolerance:\n",
    "                score = match\n",
    "            else:\n",
    "                score = mismatch\n",
    "\n",
    "            s[i][j] = max((s[i-1][j-1] + score), (s[i-1][j] + delete), (s[i][j-1] + ins))\n",
    "            j += 1\n",
    "\n",
    "        #print(i)\n",
    "        i += 1\n",
    "    \n",
    "    #print(alignments)\n",
    "\n",
    "    #for a in alignments:\n",
    "        #print(f'{words1[a[0]] if type(a[0]) != str else \"--\"} / {words2[a[1]] if type(a[1]) != str else \"--\"}')\n",
    "\n",
    "    return (s)\n",
    "\n",
    "def get_distance(output):\n",
    "    diff_string = \"\".join([a[2] for a in output])\n",
    "    diff_string = re.sub('M', \"\", diff_string)\n",
    "    return(len(diff_string))\n"
   ]
  },
  {
   "cell_type": "markdown",
   "metadata": {},
   "source": [
    "# Additional rules based on survey of Lev. distance stuff\n",
    "\n",
    "* When two forms differ by only one or two letters because one is a plural, and the other a common noun, prioritize the singular\n",
    "  * Exception: \"rights\"\n",
    "* ta marbutaa should consistently be transliterated as -a, not -ah or -at, unless the other form is in very widespread usage in English\n",
    "* Go with English versions of countries\n",
    "* Avoid hyphenated English compound words when possible, but choose hyphens over spaces or underscores\n",
    "* US Spelling unless CLEARLY used in the name of an organization itself\n",
    "* Names should be how the namee is known to transliterate it, otherwise scientific transliteration\n",
    "* No hashtags\n",
    "\n",
    "Word-level distance led to more false equivalences but here are some rules I implemented:\n",
    "* If both versions of a name are in the DB, prioritize the one with a middle initial\n",
    "* Parenthetical abbreviations should not be included. Parenthetical disambiguations should be included only when absolutely necessary"
   ]
  },
  {
   "cell_type": "markdown",
   "metadata": {},
   "source": [
    "# Visualize tag hierarchy\n",
    "\n",
    "<div class=\"alert alert-block alert-info\">\n",
    "<b>GHP:</b> I can't remember whether we need to worry about the tag nesting/hierarchy or not, but just in case, I threw together a quick treemap chart to help us visualize it (it's dynamic, you can click on things).</div>"
   ]
  },
  {
   "cell_type": "code",
   "execution_count": null,
   "metadata": {},
   "outputs": [
    {
     "data": {
      "application/vnd.plotly.v1+json": {
       "config": {
        "plotlyServerURL": "https://plot.ly"
       },
       "data": [
        {
         "branchvalues": "total",
         "domain": {
          "x": [
           0,
           1
          ],
          "y": [
           0,
           1
          ]
         },
         "hovertemplate": "labels=%{label}<br>count=%{value}<br>parent=%{parent}<br>id=%{id}<extra></extra>",
         "ids": [
          "all/Islamic Finance/AAOIFI",
          "all/U.S./ACLU",
          "all/Islamic jurisprudence/Akhbārīs vs. Uṣūlīs",
          "all/Opportunities/Call for papers",
          "all/Foreign government/Canada",
          "all/Behavioral economics/Cass Sunstein",
          "all/Foreign government/China",
          "all/Principles/Commanding right/forbidding wrong",
          "all/constitutions/Constitution of India",
          "all/Courts/Customary",
          "all/Tools/Data",
          "all/Pakistan/Federal Shariat Court",
          "all/Europe/France",
          "all/Foreign government/France",
          "all/Islamic legal history/Ghazālī",
          "all/Islamic legal history/Hudaybiyya",
          "all/Current Events/ISIS",
          "all/India/Indian Supreme Court",
          "all/Foreign government/Indonesia",
          "all/United States/International Law",
          "all/Foreign government/Iran",
          "all/Criminal law/Islamic criminal law",
          "all/Islamic law/Islamic jurisprudence",
          "all/Islamic Law and Policy/Islamic land policy",
          "all/Islamic law/Islamic legal authority",
          "all/Legal history/Islamic legal history",
          "all/Islamic law/Islamic legal theory",
          "all/Criminal law/Juvenile justice",
          "all/US Politics/Khizr Khan",
          "all/Islamic Law in US Courts/Koran",
          "all/Morocco/Malikī",
          "all/Andalusia/Malikī law",
          "all/Foreign government/Morocco",
          "all/Civil rights sharīʿa/Muhammad Ali",
          "all/Islamic law/Muslim jurists",
          "all/Islamic jurisprudence/Muḥammad Bāqir al-Ṣadr",
          "all/Islamic legal history/Māwardī",
          "all/Ottoman Empire/Ottoman law",
          "all/Foreign government/Pakistan",
          "all/Foreign government/Pluralism",
          "all/Government/Privacy",
          "all/Courts/Proceedings",
          "all/Islamic jurisprudence/Qarāfī",
          "all/religious accommodation/Ramadan",
          "all/Islamic law/Recent developments",
          "all/Islamic Finance/Regulation",
          "all/U.S./Religious Freedom Restoration Act",
          "all/Schools of thought/Salafi",
          "all/Salafi/Salafism",
          "all/Shīʽī/Shīʿī law",
          "all/Government/Social contract",
          "all/Africa/South Africa",
          "all/Government/State's role",
          "all/Pakistan/Supreme Court of Pakistan",
          "all/U.S./Title VII",
          "all/constitutions/U.S. Constitution",
          "all/US Politics/U.S. Elections",
          "all/U.S./U.S. law and policy",
          "all/Legal history/U.S. legal history",
          "all/U.S./US law and policy",
          "all/Cases to Watch/Update",
          "all/Current Court Cases/Update",
          "all/State's role/administrative state",
          "all/Criminal law/age of maturity",
          "all/Islamic Finance/bankruptcy",
          "all/Data/big data",
          "all/Practice/big law",
          "all/religious accommodation/burkini ban",
          "all/Courts/caliph",
          "all/Rule of law/codification",
          "all/Islamic law/contemporary Islamic law",
          "all/Data/corpus analysis",
          "all/Criminal law/crime and punishment",
          "all/Criminal law/criminal responsibility",
          "all/sharīʿa courts/darul-qaza",
          "all/Property law/debt",
          "all/Digital Humanities/digital Islamic humanities",
          "all/Texts/digitization",
          "all/Civil rights/discrimination",
          "all/Family law/divorce",
          "all/Criminal law/diya (blood money)",
          "all/Principles/equity",
          "all/Criminal law/evidence",
          "all/AAOIFI/fatwās",
          "all/Opportunities/fellowship",
          "all/Islamic Finance/financial free zones",
          "all/Islamic law/fiqh",
          "all/First Amendment/free exercise",
          "all/Property law/gharar (indefiniteness / risk)",
          "all/Criminal law/hadd",
          "all/Islamic Law Lexicon/hadith/Ḥadīth",
          "all/U.S./halal",
          "all/blasphemy/heresy",
          "all/Schools of thought/heterodoxy",
          "all/Religious rights/hijab",
          "all/Criminal law/hudood",
          "all/Islamic Finance/ijāra",
          "all/Islamic Finance/ijāra (lease)",
          "all/Family law/inheritance laws",
          "all/Property law/intangible property",
          "all/Courts/judge",
          "all/Principles/karāma (dignity)",
          "all/Islamic Finance/khums",
          "all/secularism/laïcité",
          "all/Opportunities/lectureship",
          "all/Family law/mahr",
          "all/Family law/marriage",
          "all/Courts/maẓālim",
          "all/Islamic Finance/murābaḥa (markup and resale)",
          "all/Islamic Finance/muḍāraba (profit-sharing)",
          "all/Islamic law/muḥtasib (market inspector)",
          "all/marriage/nikah",
          "all/Religious rights/niqāb (face veil)",
          "all/Morocco/personal status code",
          "all/Civil rights/prisoners' rights",
          "all/Criminal law/proof",
          "all/Criminal law/qiṣāṣ (retaliation)",
          "all/Islamic law/qāḍī",
          "all/Civil rights/religious accommodation",
          "all/Religious rights/religious freedom",
          "all/Islamic Finance/ribā",
          "all/law and religion/secularism",
          "all/Criminal law/sentencing",
          "all/secularism/sharīʿa bans",
          "all/Islamic law/sharīʿa compliance",
          "all/sharīʿa courts/sharīʿa councils",
          "all/Islamic law/sharīʿa definitions",
          "all/Islamic Finance/sukuk",
          "all/Family law/surrogacy",
          "all/Islamic Law Teaching/syllabus",
          "all/Family law/talaq/ṭalāq",
          "all/Property law/tangible property",
          "all/Islamic Finance/tax theory",
          "all/Criminal law/tazir",
          "all/Criminal law/taʿzīr (discretionary penalties)",
          "all/Women's Rights/women and gender",
          "all/Islamic Finance/zakat",
          "all/Criminal law/zinā (sex crimes)",
          "all/Islamic legal history/ʿAbd al-Qādir al-Jīlānī",
          "all/Religious rights/ḥijāb (headscarf)",
          "all/law and religion/ḥijāb / headscarf debates",
          "all/Criminal law/ḥudūd / hudood",
          "all/Principles/ḥurma (inviolability)",
          "all/AAOIFI",
          "all/Africa",
          "all/Andalusia",
          "all/Behavioral economics",
          "all/Cases to Watch",
          "all/Civil rights",
          "all/Civil rights sharīʿa",
          "all/Courts",
          "all/Criminal law",
          "all/Current Court Cases",
          "all/Current Events",
          "all/Data",
          "all/Digital Humanities",
          "all/Europe",
          "all/Family law",
          "all/First Amendment",
          "all/Foreign government",
          "all/Government",
          "all/India",
          "all/Islamic Finance",
          "all/Islamic Law Lexicon",
          "all/Islamic Law Teaching",
          "all/Islamic Law and Policy",
          "all/Islamic Law in US Courts",
          "all/Islamic jurisprudence",
          "all/Islamic law",
          "all/Islamic legal history",
          "all/Legal history",
          "all/Morocco",
          "all/Opportunities",
          "all/Ottoman Empire",
          "all/Pakistan",
          "all/Practice",
          "all/Principles",
          "all/Property law",
          "all/Religious rights",
          "all/Rule of law",
          "all/Salafi",
          "all/Schools of thought",
          "all/Shīʽī",
          "all/State's role",
          "all/Texts",
          "all/Tools",
          "all/U.S.",
          "all/US Politics",
          "all/United States",
          "all/Women's Rights",
          "all/blasphemy",
          "all/constitutions",
          "all/law and religion",
          "all/marriage",
          "all/religious accommodation",
          "all/secularism",
          "all/sharīʿa courts",
          "all"
         ],
         "labels": [
          "AAOIFI",
          "ACLU",
          "Akhbārīs vs. Uṣūlīs",
          "Call for papers",
          "Canada",
          "Cass Sunstein",
          "China",
          "Commanding right/forbidding wrong",
          "Constitution of India",
          "Customary",
          "Data",
          "Federal Shariat Court",
          "France",
          "France",
          "Ghazālī",
          "Hudaybiyya",
          "ISIS",
          "Indian Supreme Court",
          "Indonesia",
          "International Law",
          "Iran",
          "Islamic criminal law",
          "Islamic jurisprudence",
          "Islamic land policy",
          "Islamic legal authority",
          "Islamic legal history",
          "Islamic legal theory",
          "Juvenile justice",
          "Khizr Khan",
          "Koran",
          "Malikī",
          "Malikī law",
          "Morocco",
          "Muhammad Ali",
          "Muslim jurists",
          "Muḥammad Bāqir al-Ṣadr",
          "Māwardī",
          "Ottoman law",
          "Pakistan",
          "Pluralism",
          "Privacy",
          "Proceedings",
          "Qarāfī",
          "Ramadan",
          "Recent developments",
          "Regulation",
          "Religious Freedom Restoration Act",
          "Salafi",
          "Salafism",
          "Shīʿī law",
          "Social contract",
          "South Africa",
          "State's role",
          "Supreme Court of Pakistan",
          "Title VII",
          "U.S. Constitution",
          "U.S. Elections",
          "U.S. law and policy",
          "U.S. legal history",
          "US law and policy",
          "Update",
          "Update",
          "administrative state",
          "age of maturity",
          "bankruptcy",
          "big data",
          "big law",
          "burkini ban",
          "caliph",
          "codification",
          "contemporary Islamic law",
          "corpus analysis",
          "crime and punishment",
          "criminal responsibility",
          "darul-qaza",
          "debt",
          "digital Islamic humanities",
          "digitization",
          "discrimination",
          "divorce",
          "diya (blood money)",
          "equity",
          "evidence",
          "fatwās",
          "fellowship",
          "financial free zones",
          "fiqh",
          "free exercise",
          "gharar (indefiniteness / risk)",
          "hadd",
          "hadith/Ḥadīth",
          "halal",
          "heresy",
          "heterodoxy",
          "hijab",
          "hudood",
          "ijāra",
          "ijāra (lease)",
          "inheritance laws",
          "intangible property",
          "judge",
          "karāma (dignity)",
          "khums",
          "laïcité",
          "lectureship",
          "mahr",
          "marriage",
          "maẓālim",
          "murābaḥa (markup and resale)",
          "muḍāraba (profit-sharing)",
          "muḥtasib (market inspector)",
          "nikah",
          "niqāb (face veil)",
          "personal status code",
          "prisoners' rights",
          "proof",
          "qiṣāṣ (retaliation)",
          "qāḍī",
          "religious accommodation",
          "religious freedom",
          "ribā",
          "secularism",
          "sentencing",
          "sharīʿa bans",
          "sharīʿa compliance",
          "sharīʿa councils",
          "sharīʿa definitions",
          "sukuk",
          "surrogacy",
          "syllabus",
          "talaq/ṭalāq",
          "tangible property",
          "tax theory",
          "tazir",
          "taʿzīr (discretionary penalties)",
          "women and gender",
          "zakat",
          "zinā (sex crimes)",
          "ʿAbd al-Qādir al-Jīlānī",
          "ḥijāb (headscarf)",
          "ḥijāb / headscarf debates",
          "ḥudūd / hudood",
          "ḥurma (inviolability)",
          "AAOIFI",
          "Africa",
          "Andalusia",
          "Behavioral economics",
          "Cases to Watch",
          "Civil rights",
          "Civil rights sharīʿa",
          "Courts",
          "Criminal law",
          "Current Court Cases",
          "Current Events",
          "Data",
          "Digital Humanities",
          "Europe",
          "Family law",
          "First Amendment",
          "Foreign government",
          "Government",
          "India",
          "Islamic Finance",
          "Islamic Law Lexicon",
          "Islamic Law Teaching",
          "Islamic Law and Policy",
          "Islamic Law in US Courts",
          "Islamic jurisprudence",
          "Islamic law",
          "Islamic legal history",
          "Legal history",
          "Morocco",
          "Opportunities",
          "Ottoman Empire",
          "Pakistan",
          "Practice",
          "Principles",
          "Property law",
          "Religious rights",
          "Rule of law",
          "Salafi",
          "Schools of thought",
          "Shīʽī",
          "State's role",
          "Texts",
          "Tools",
          "U.S.",
          "US Politics",
          "United States",
          "Women's Rights",
          "blasphemy",
          "constitutions",
          "law and religion",
          "marriage",
          "religious accommodation",
          "secularism",
          "sharīʿa courts",
          "all"
         ],
         "name": "",
         "parents": [
          "all/Islamic Finance",
          "all/U.S.",
          "all/Islamic jurisprudence",
          "all/Opportunities",
          "all/Foreign government",
          "all/Behavioral economics",
          "all/Foreign government",
          "all/Principles",
          "all/constitutions",
          "all/Courts",
          "all/Tools",
          "all/Pakistan",
          "all/Europe",
          "all/Foreign government",
          "all/Islamic legal history",
          "all/Islamic legal history",
          "all/Current Events",
          "all/India",
          "all/Foreign government",
          "all/United States",
          "all/Foreign government",
          "all/Criminal law",
          "all/Islamic law",
          "all/Islamic Law and Policy",
          "all/Islamic law",
          "all/Legal history",
          "all/Islamic law",
          "all/Criminal law",
          "all/US Politics",
          "all/Islamic Law in US Courts",
          "all/Morocco",
          "all/Andalusia",
          "all/Foreign government",
          "all/Civil rights sharīʿa",
          "all/Islamic law",
          "all/Islamic jurisprudence",
          "all/Islamic legal history",
          "all/Ottoman Empire",
          "all/Foreign government",
          "all/Foreign government",
          "all/Government",
          "all/Courts",
          "all/Islamic jurisprudence",
          "all/religious accommodation",
          "all/Islamic law",
          "all/Islamic Finance",
          "all/U.S.",
          "all/Schools of thought",
          "all/Salafi",
          "all/Shīʽī",
          "all/Government",
          "all/Africa",
          "all/Government",
          "all/Pakistan",
          "all/U.S.",
          "all/constitutions",
          "all/US Politics",
          "all/U.S.",
          "all/Legal history",
          "all/U.S.",
          "all/Cases to Watch",
          "all/Current Court Cases",
          "all/State's role",
          "all/Criminal law",
          "all/Islamic Finance",
          "all/Data",
          "all/Practice",
          "all/religious accommodation",
          "all/Courts",
          "all/Rule of law",
          "all/Islamic law",
          "all/Data",
          "all/Criminal law",
          "all/Criminal law",
          "all/sharīʿa courts",
          "all/Property law",
          "all/Digital Humanities",
          "all/Texts",
          "all/Civil rights",
          "all/Family law",
          "all/Criminal law",
          "all/Principles",
          "all/Criminal law",
          "all/AAOIFI",
          "all/Opportunities",
          "all/Islamic Finance",
          "all/Islamic law",
          "all/First Amendment",
          "all/Property law",
          "all/Criminal law",
          "all/Islamic Law Lexicon",
          "all/U.S.",
          "all/blasphemy",
          "all/Schools of thought",
          "all/Religious rights",
          "all/Criminal law",
          "all/Islamic Finance",
          "all/Islamic Finance",
          "all/Family law",
          "all/Property law",
          "all/Courts",
          "all/Principles",
          "all/Islamic Finance",
          "all/secularism",
          "all/Opportunities",
          "all/Family law",
          "all/Family law",
          "all/Courts",
          "all/Islamic Finance",
          "all/Islamic Finance",
          "all/Islamic law",
          "all/marriage",
          "all/Religious rights",
          "all/Morocco",
          "all/Civil rights",
          "all/Criminal law",
          "all/Criminal law",
          "all/Islamic law",
          "all/Civil rights",
          "all/Religious rights",
          "all/Islamic Finance",
          "all/law and religion",
          "all/Criminal law",
          "all/secularism",
          "all/Islamic law",
          "all/sharīʿa courts",
          "all/Islamic law",
          "all/Islamic Finance",
          "all/Family law",
          "all/Islamic Law Teaching",
          "all/Family law",
          "all/Property law",
          "all/Islamic Finance",
          "all/Criminal law",
          "all/Criminal law",
          "all/Women's Rights",
          "all/Islamic Finance",
          "all/Criminal law",
          "all/Islamic legal history",
          "all/Religious rights",
          "all/law and religion",
          "all/Criminal law",
          "all/Principles",
          "all",
          "all",
          "all",
          "all",
          "all",
          "all",
          "all",
          "all",
          "all",
          "all",
          "all",
          "all",
          "all",
          "all",
          "all",
          "all",
          "all",
          "all",
          "all",
          "all",
          "all",
          "all",
          "all",
          "all",
          "all",
          "all",
          "all",
          "all",
          "all",
          "all",
          "all",
          "all",
          "all",
          "all",
          "all",
          "all",
          "all",
          "all",
          "all",
          "all",
          "all",
          "all",
          "all",
          "all",
          "all",
          "all",
          "all",
          "all",
          "all",
          "all",
          "all",
          "all",
          "all",
          "all",
          ""
         ],
         "root": {
          "color": "lightgrey"
         },
         "type": "treemap",
         "values": [
          1,
          1,
          1,
          1,
          1,
          1,
          1,
          1,
          1,
          1,
          1,
          1,
          1,
          1,
          1,
          1,
          1,
          1,
          1,
          1,
          1,
          1,
          1,
          1,
          1,
          1,
          1,
          1,
          1,
          1,
          1,
          1,
          1,
          1,
          1,
          1,
          1,
          1,
          1,
          1,
          1,
          1,
          1,
          1,
          1,
          1,
          1,
          1,
          1,
          1,
          1,
          1,
          1,
          1,
          1,
          1,
          1,
          1,
          1,
          1,
          1,
          1,
          1,
          1,
          1,
          1,
          1,
          1,
          1,
          1,
          1,
          1,
          1,
          1,
          1,
          1,
          1,
          1,
          1,
          1,
          1,
          1,
          1,
          1,
          1,
          1,
          1,
          1,
          1,
          1,
          1,
          1,
          1,
          1,
          1,
          1,
          1,
          1,
          1,
          1,
          1,
          1,
          1,
          1,
          1,
          1,
          1,
          1,
          1,
          1,
          1,
          1,
          1,
          1,
          1,
          1,
          1,
          1,
          1,
          1,
          1,
          1,
          1,
          1,
          1,
          1,
          1,
          1,
          1,
          1,
          1,
          1,
          1,
          1,
          1,
          1,
          1,
          1,
          1,
          1,
          1,
          1,
          1,
          1,
          1,
          1,
          1,
          1,
          3,
          1,
          5,
          16,
          1,
          1,
          2,
          1,
          1,
          6,
          1,
          8,
          3,
          1,
          13,
          1,
          1,
          1,
          1,
          3,
          11,
          4,
          2,
          2,
          3,
          1,
          2,
          1,
          4,
          4,
          4,
          1,
          1,
          2,
          1,
          1,
          1,
          1,
          6,
          2,
          1,
          1,
          1,
          2,
          2,
          1,
          2,
          2,
          2,
          143
         ]
        }
       ],
       "layout": {
        "legend": {
         "tracegroupgap": 0
        },
        "margin": {
         "b": 25,
         "l": 25,
         "r": 25,
         "t": 50
        },
        "template": {
         "data": {
          "bar": [
           {
            "error_x": {
             "color": "#2a3f5f"
            },
            "error_y": {
             "color": "#2a3f5f"
            },
            "marker": {
             "line": {
              "color": "#E5ECF6",
              "width": 0.5
             },
             "pattern": {
              "fillmode": "overlay",
              "size": 10,
              "solidity": 0.2
             }
            },
            "type": "bar"
           }
          ],
          "barpolar": [
           {
            "marker": {
             "line": {
              "color": "#E5ECF6",
              "width": 0.5
             },
             "pattern": {
              "fillmode": "overlay",
              "size": 10,
              "solidity": 0.2
             }
            },
            "type": "barpolar"
           }
          ],
          "carpet": [
           {
            "aaxis": {
             "endlinecolor": "#2a3f5f",
             "gridcolor": "white",
             "linecolor": "white",
             "minorgridcolor": "white",
             "startlinecolor": "#2a3f5f"
            },
            "baxis": {
             "endlinecolor": "#2a3f5f",
             "gridcolor": "white",
             "linecolor": "white",
             "minorgridcolor": "white",
             "startlinecolor": "#2a3f5f"
            },
            "type": "carpet"
           }
          ],
          "choropleth": [
           {
            "colorbar": {
             "outlinewidth": 0,
             "ticks": ""
            },
            "type": "choropleth"
           }
          ],
          "contour": [
           {
            "colorbar": {
             "outlinewidth": 0,
             "ticks": ""
            },
            "colorscale": [
             [
              0,
              "#0d0887"
             ],
             [
              0.1111111111111111,
              "#46039f"
             ],
             [
              0.2222222222222222,
              "#7201a8"
             ],
             [
              0.3333333333333333,
              "#9c179e"
             ],
             [
              0.4444444444444444,
              "#bd3786"
             ],
             [
              0.5555555555555556,
              "#d8576b"
             ],
             [
              0.6666666666666666,
              "#ed7953"
             ],
             [
              0.7777777777777778,
              "#fb9f3a"
             ],
             [
              0.8888888888888888,
              "#fdca26"
             ],
             [
              1,
              "#f0f921"
             ]
            ],
            "type": "contour"
           }
          ],
          "contourcarpet": [
           {
            "colorbar": {
             "outlinewidth": 0,
             "ticks": ""
            },
            "type": "contourcarpet"
           }
          ],
          "heatmap": [
           {
            "colorbar": {
             "outlinewidth": 0,
             "ticks": ""
            },
            "colorscale": [
             [
              0,
              "#0d0887"
             ],
             [
              0.1111111111111111,
              "#46039f"
             ],
             [
              0.2222222222222222,
              "#7201a8"
             ],
             [
              0.3333333333333333,
              "#9c179e"
             ],
             [
              0.4444444444444444,
              "#bd3786"
             ],
             [
              0.5555555555555556,
              "#d8576b"
             ],
             [
              0.6666666666666666,
              "#ed7953"
             ],
             [
              0.7777777777777778,
              "#fb9f3a"
             ],
             [
              0.8888888888888888,
              "#fdca26"
             ],
             [
              1,
              "#f0f921"
             ]
            ],
            "type": "heatmap"
           }
          ],
          "heatmapgl": [
           {
            "colorbar": {
             "outlinewidth": 0,
             "ticks": ""
            },
            "colorscale": [
             [
              0,
              "#0d0887"
             ],
             [
              0.1111111111111111,
              "#46039f"
             ],
             [
              0.2222222222222222,
              "#7201a8"
             ],
             [
              0.3333333333333333,
              "#9c179e"
             ],
             [
              0.4444444444444444,
              "#bd3786"
             ],
             [
              0.5555555555555556,
              "#d8576b"
             ],
             [
              0.6666666666666666,
              "#ed7953"
             ],
             [
              0.7777777777777778,
              "#fb9f3a"
             ],
             [
              0.8888888888888888,
              "#fdca26"
             ],
             [
              1,
              "#f0f921"
             ]
            ],
            "type": "heatmapgl"
           }
          ],
          "histogram": [
           {
            "marker": {
             "pattern": {
              "fillmode": "overlay",
              "size": 10,
              "solidity": 0.2
             }
            },
            "type": "histogram"
           }
          ],
          "histogram2d": [
           {
            "colorbar": {
             "outlinewidth": 0,
             "ticks": ""
            },
            "colorscale": [
             [
              0,
              "#0d0887"
             ],
             [
              0.1111111111111111,
              "#46039f"
             ],
             [
              0.2222222222222222,
              "#7201a8"
             ],
             [
              0.3333333333333333,
              "#9c179e"
             ],
             [
              0.4444444444444444,
              "#bd3786"
             ],
             [
              0.5555555555555556,
              "#d8576b"
             ],
             [
              0.6666666666666666,
              "#ed7953"
             ],
             [
              0.7777777777777778,
              "#fb9f3a"
             ],
             [
              0.8888888888888888,
              "#fdca26"
             ],
             [
              1,
              "#f0f921"
             ]
            ],
            "type": "histogram2d"
           }
          ],
          "histogram2dcontour": [
           {
            "colorbar": {
             "outlinewidth": 0,
             "ticks": ""
            },
            "colorscale": [
             [
              0,
              "#0d0887"
             ],
             [
              0.1111111111111111,
              "#46039f"
             ],
             [
              0.2222222222222222,
              "#7201a8"
             ],
             [
              0.3333333333333333,
              "#9c179e"
             ],
             [
              0.4444444444444444,
              "#bd3786"
             ],
             [
              0.5555555555555556,
              "#d8576b"
             ],
             [
              0.6666666666666666,
              "#ed7953"
             ],
             [
              0.7777777777777778,
              "#fb9f3a"
             ],
             [
              0.8888888888888888,
              "#fdca26"
             ],
             [
              1,
              "#f0f921"
             ]
            ],
            "type": "histogram2dcontour"
           }
          ],
          "mesh3d": [
           {
            "colorbar": {
             "outlinewidth": 0,
             "ticks": ""
            },
            "type": "mesh3d"
           }
          ],
          "parcoords": [
           {
            "line": {
             "colorbar": {
              "outlinewidth": 0,
              "ticks": ""
             }
            },
            "type": "parcoords"
           }
          ],
          "pie": [
           {
            "automargin": true,
            "type": "pie"
           }
          ],
          "scatter": [
           {
            "fillpattern": {
             "fillmode": "overlay",
             "size": 10,
             "solidity": 0.2
            },
            "type": "scatter"
           }
          ],
          "scatter3d": [
           {
            "line": {
             "colorbar": {
              "outlinewidth": 0,
              "ticks": ""
             }
            },
            "marker": {
             "colorbar": {
              "outlinewidth": 0,
              "ticks": ""
             }
            },
            "type": "scatter3d"
           }
          ],
          "scattercarpet": [
           {
            "marker": {
             "colorbar": {
              "outlinewidth": 0,
              "ticks": ""
             }
            },
            "type": "scattercarpet"
           }
          ],
          "scattergeo": [
           {
            "marker": {
             "colorbar": {
              "outlinewidth": 0,
              "ticks": ""
             }
            },
            "type": "scattergeo"
           }
          ],
          "scattergl": [
           {
            "marker": {
             "colorbar": {
              "outlinewidth": 0,
              "ticks": ""
             }
            },
            "type": "scattergl"
           }
          ],
          "scattermapbox": [
           {
            "marker": {
             "colorbar": {
              "outlinewidth": 0,
              "ticks": ""
             }
            },
            "type": "scattermapbox"
           }
          ],
          "scatterpolar": [
           {
            "marker": {
             "colorbar": {
              "outlinewidth": 0,
              "ticks": ""
             }
            },
            "type": "scatterpolar"
           }
          ],
          "scatterpolargl": [
           {
            "marker": {
             "colorbar": {
              "outlinewidth": 0,
              "ticks": ""
             }
            },
            "type": "scatterpolargl"
           }
          ],
          "scatterternary": [
           {
            "marker": {
             "colorbar": {
              "outlinewidth": 0,
              "ticks": ""
             }
            },
            "type": "scatterternary"
           }
          ],
          "surface": [
           {
            "colorbar": {
             "outlinewidth": 0,
             "ticks": ""
            },
            "colorscale": [
             [
              0,
              "#0d0887"
             ],
             [
              0.1111111111111111,
              "#46039f"
             ],
             [
              0.2222222222222222,
              "#7201a8"
             ],
             [
              0.3333333333333333,
              "#9c179e"
             ],
             [
              0.4444444444444444,
              "#bd3786"
             ],
             [
              0.5555555555555556,
              "#d8576b"
             ],
             [
              0.6666666666666666,
              "#ed7953"
             ],
             [
              0.7777777777777778,
              "#fb9f3a"
             ],
             [
              0.8888888888888888,
              "#fdca26"
             ],
             [
              1,
              "#f0f921"
             ]
            ],
            "type": "surface"
           }
          ],
          "table": [
           {
            "cells": {
             "fill": {
              "color": "#EBF0F8"
             },
             "line": {
              "color": "white"
             }
            },
            "header": {
             "fill": {
              "color": "#C8D4E3"
             },
             "line": {
              "color": "white"
             }
            },
            "type": "table"
           }
          ]
         },
         "layout": {
          "annotationdefaults": {
           "arrowcolor": "#2a3f5f",
           "arrowhead": 0,
           "arrowwidth": 1
          },
          "autotypenumbers": "strict",
          "coloraxis": {
           "colorbar": {
            "outlinewidth": 0,
            "ticks": ""
           }
          },
          "colorscale": {
           "diverging": [
            [
             0,
             "#8e0152"
            ],
            [
             0.1,
             "#c51b7d"
            ],
            [
             0.2,
             "#de77ae"
            ],
            [
             0.3,
             "#f1b6da"
            ],
            [
             0.4,
             "#fde0ef"
            ],
            [
             0.5,
             "#f7f7f7"
            ],
            [
             0.6,
             "#e6f5d0"
            ],
            [
             0.7,
             "#b8e186"
            ],
            [
             0.8,
             "#7fbc41"
            ],
            [
             0.9,
             "#4d9221"
            ],
            [
             1,
             "#276419"
            ]
           ],
           "sequential": [
            [
             0,
             "#0d0887"
            ],
            [
             0.1111111111111111,
             "#46039f"
            ],
            [
             0.2222222222222222,
             "#7201a8"
            ],
            [
             0.3333333333333333,
             "#9c179e"
            ],
            [
             0.4444444444444444,
             "#bd3786"
            ],
            [
             0.5555555555555556,
             "#d8576b"
            ],
            [
             0.6666666666666666,
             "#ed7953"
            ],
            [
             0.7777777777777778,
             "#fb9f3a"
            ],
            [
             0.8888888888888888,
             "#fdca26"
            ],
            [
             1,
             "#f0f921"
            ]
           ],
           "sequentialminus": [
            [
             0,
             "#0d0887"
            ],
            [
             0.1111111111111111,
             "#46039f"
            ],
            [
             0.2222222222222222,
             "#7201a8"
            ],
            [
             0.3333333333333333,
             "#9c179e"
            ],
            [
             0.4444444444444444,
             "#bd3786"
            ],
            [
             0.5555555555555556,
             "#d8576b"
            ],
            [
             0.6666666666666666,
             "#ed7953"
            ],
            [
             0.7777777777777778,
             "#fb9f3a"
            ],
            [
             0.8888888888888888,
             "#fdca26"
            ],
            [
             1,
             "#f0f921"
            ]
           ]
          },
          "colorway": [
           "#636efa",
           "#EF553B",
           "#00cc96",
           "#ab63fa",
           "#FFA15A",
           "#19d3f3",
           "#FF6692",
           "#B6E880",
           "#FF97FF",
           "#FECB52"
          ],
          "font": {
           "color": "#2a3f5f"
          },
          "geo": {
           "bgcolor": "white",
           "lakecolor": "white",
           "landcolor": "#E5ECF6",
           "showlakes": true,
           "showland": true,
           "subunitcolor": "white"
          },
          "hoverlabel": {
           "align": "left"
          },
          "hovermode": "closest",
          "mapbox": {
           "style": "light"
          },
          "paper_bgcolor": "white",
          "plot_bgcolor": "#E5ECF6",
          "polar": {
           "angularaxis": {
            "gridcolor": "white",
            "linecolor": "white",
            "ticks": ""
           },
           "bgcolor": "#E5ECF6",
           "radialaxis": {
            "gridcolor": "white",
            "linecolor": "white",
            "ticks": ""
           }
          },
          "scene": {
           "xaxis": {
            "backgroundcolor": "#E5ECF6",
            "gridcolor": "white",
            "gridwidth": 2,
            "linecolor": "white",
            "showbackground": true,
            "ticks": "",
            "zerolinecolor": "white"
           },
           "yaxis": {
            "backgroundcolor": "#E5ECF6",
            "gridcolor": "white",
            "gridwidth": 2,
            "linecolor": "white",
            "showbackground": true,
            "ticks": "",
            "zerolinecolor": "white"
           },
           "zaxis": {
            "backgroundcolor": "#E5ECF6",
            "gridcolor": "white",
            "gridwidth": 2,
            "linecolor": "white",
            "showbackground": true,
            "ticks": "",
            "zerolinecolor": "white"
           }
          },
          "shapedefaults": {
           "line": {
            "color": "#2a3f5f"
           }
          },
          "ternary": {
           "aaxis": {
            "gridcolor": "white",
            "linecolor": "white",
            "ticks": ""
           },
           "baxis": {
            "gridcolor": "white",
            "linecolor": "white",
            "ticks": ""
           },
           "bgcolor": "#E5ECF6",
           "caxis": {
            "gridcolor": "white",
            "linecolor": "white",
            "ticks": ""
           }
          },
          "title": {
           "x": 0.05
          },
          "xaxis": {
           "automargin": true,
           "gridcolor": "white",
           "linecolor": "white",
           "ticks": "",
           "title": {
            "standoff": 15
           },
           "zerolinecolor": "white",
           "zerolinewidth": 2
          },
          "yaxis": {
           "automargin": true,
           "gridcolor": "white",
           "linecolor": "white",
           "ticks": "",
           "title": {
            "standoff": 15
           },
           "zerolinecolor": "white",
           "zerolinewidth": 2
          }
         }
        }
       }
      }
     },
     "metadata": {},
     "output_type": "display_data"
    }
   ],
   "source": [
    "nested = dataset.loc[dataset['parent'].isnull() == False][['parent', 'name']]  # noqa: E712\n",
    "\n",
    "fig = px.treemap(nested, path=[px.Constant('all'), 'parent', 'name'])\n",
    "fig.update_traces(root_color='lightgrey')\n",
    "fig.update_layout(margin = {'t': 50, 'l': 25, 'r': 25, 'b': 25})\n",
    "fig.show()\n"
   ]
  }
 ],
 "metadata": {
  "kernelspec": {
   "display_name": "research6",
   "language": "python",
   "name": "python3"
  },
  "language_info": {
   "codemirror_mode": {
    "name": "ipython",
    "version": 3
   },
   "file_extension": ".py",
   "mimetype": "text/x-python",
   "name": "python",
   "nbconvert_exporter": "python",
   "pygments_lexer": "ipython3",
   "version": "3.11.3"
  }
 },
 "nbformat": 4,
 "nbformat_minor": 2
}
